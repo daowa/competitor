{
 "cells": [
  {
   "cell_type": "code",
   "execution_count": 8,
   "metadata": {},
   "outputs": [],
   "source": [
    "# -*- coding: utf-8 -*-\n",
    "import numpy as np\n",
    "import pandas as pd\n",
    "import urllib\n",
    "import json\n",
    "import os\n",
    "import re\n",
    "import time\n",
    "import iNeedCos\n",
    "import iNeedNet\n",
    "import jieba\n",
    "# from pyltp import Segmentor"
   ]
  },
  {
   "cell_type": "code",
   "execution_count": 9,
   "metadata": {},
   "outputs": [],
   "source": [
    "import socket\n",
    "socket.setdefaulttimeout(10)"
   ]
  },
  {
   "cell_type": "markdown",
   "metadata": {},
   "source": [
    "## 1.读入文本"
   ]
  },
  {
   "cell_type": "code",
   "execution_count": 10,
   "metadata": {
    "scrolled": true
   },
   "outputs": [],
   "source": [
    "# 读入专家文本\n",
    "list_car = []\n",
    "list_txt = []\n",
    "file_car_list = os.listdir('E:/car2')\n",
    "for file_car in file_car_list:\n",
    "    file_txt_list = os.listdir('E:/car2/' + file_car)\n",
    "    for file_txt in file_txt_list:\n",
    "        # 写入车名\n",
    "        list_car.append(file_car)\n",
    "        # 写入内容\n",
    "        path = 'E:/car2/' + file_car + '/' + file_txt\n",
    "        f = open(path,errors='ignore')\n",
    "        txt = f.read().strip()\n",
    "        f.close()\n",
    "        list_txt.append(txt)\n",
    "data_txt = pd.DataFrame({'company':list_car,'txt':list_txt})"
   ]
  },
  {
   "cell_type": "code",
   "execution_count": 11,
   "metadata": {},
   "outputs": [
    {
     "data": {
      "text/html": [
       "<div>\n",
       "<style scoped>\n",
       "    .dataframe tbody tr th:only-of-type {\n",
       "        vertical-align: middle;\n",
       "    }\n",
       "\n",
       "    .dataframe tbody tr th {\n",
       "        vertical-align: top;\n",
       "    }\n",
       "\n",
       "    .dataframe thead th {\n",
       "        text-align: right;\n",
       "    }\n",
       "</style>\n",
       "<table border=\"1\" class=\"dataframe\">\n",
       "  <thead>\n",
       "    <tr style=\"text-align: right;\">\n",
       "      <th></th>\n",
       "      <th>company</th>\n",
       "      <th>txt</th>\n",
       "    </tr>\n",
       "  </thead>\n",
       "  <tbody>\n",
       "    <tr>\n",
       "      <th>0</th>\n",
       "      <td>上汽乘用车</td>\n",
       "      <td>过去，中国车企在海外市场往往走的是价格战的老路。不过，有一个品牌一开始就剑指中高端市场，在海...</td>\n",
       "    </tr>\n",
       "    <tr>\n",
       "      <th>1</th>\n",
       "      <td>上汽乘用车</td>\n",
       "      <td>2015年，新能源汽车市场可谓喜忧参半，喜的是实现了爆发性增长前途一片光明，忧的是发展过程中...</td>\n",
       "    </tr>\n",
       "    <tr>\n",
       "      <th>2</th>\n",
       "      <td>上汽乘用车</td>\n",
       "      <td>上汽通用汽车作为行业领先企业，以创新求变的发展思路，提出从“卓越经营”到“卓越‘精’营”的战...</td>\n",
       "    </tr>\n",
       "    <tr>\n",
       "      <th>3</th>\n",
       "      <td>上汽乘用车</td>\n",
       "      <td>曾经有专家提出，落后国际几十年的中国汽车可以在新能源汽车领域实现“弯道超车”。因为从商业化时...</td>\n",
       "    </tr>\n",
       "    <tr>\n",
       "      <th>4</th>\n",
       "      <td>上汽乘用车</td>\n",
       "      <td>本报记者 何芳 实习生 马英歌 北京报道3月13日，在大众集团柏林宣布2017财年业绩的同时...</td>\n",
       "    </tr>\n",
       "    <tr>\n",
       "      <th>5</th>\n",
       "      <td>众泰新能源</td>\n",
       "      <td>对于传统能源汽车而言，零部件使用的主要原材料为钢材、石油、有色金属、天胶、布料及其他材料，近...</td>\n",
       "    </tr>\n",
       "    <tr>\n",
       "      <th>6</th>\n",
       "      <td>众泰新能源</td>\n",
       "      <td>今年以来，中央与各地政府密集出台了针对新能源汽车的补贴政策，并于9月1日起正式免征新能源汽车...</td>\n",
       "    </tr>\n",
       "    <tr>\n",
       "      <th>7</th>\n",
       "      <td>众泰新能源</td>\n",
       "      <td>十、本次交易对中小投资者权益保护的安排\\n\\n（一）严格履行相关程序并及时履行信息披露义务\\...</td>\n",
       "    </tr>\n",
       "    <tr>\n",
       "      <th>8</th>\n",
       "      <td>北汽新能源</td>\n",
       "      <td>对于布局“一盘大棋”的北京新能源汽车股份有限公司（以下简称“北汽新能源”）来说，借道“S?鄢...</td>\n",
       "    </tr>\n",
       "    <tr>\n",
       "      <th>9</th>\n",
       "      <td>北汽新能源</td>\n",
       "      <td>北京商报讯（记者）1月9日，北汽新能源交出了一份去年的成绩单，产销量双双破10万辆，成为首家...</td>\n",
       "    </tr>\n",
       "    <tr>\n",
       "      <th>10</th>\n",
       "      <td>北汽新能源</td>\n",
       "      <td>“8年奋战，8年领先，北汽新能源以自己的创新与奋进在过去8年里向消费者以及投资人交出了一份满...</td>\n",
       "    </tr>\n",
       "    <tr>\n",
       "      <th>11</th>\n",
       "      <td>北汽新能源</td>\n",
       "      <td>今年前十个月，新能源汽车产销增幅再度超越整个汽车行业的十倍之上，在收获佳绩的同时，越来越多的...</td>\n",
       "    </tr>\n",
       "    <tr>\n",
       "      <th>12</th>\n",
       "      <td>北汽新能源</td>\n",
       "      <td>充电模式逐渐规模化之后，北汽新能源另辟蹊径，开启百亿“换电计划”。11月3日，北汽新能源副总...</td>\n",
       "    </tr>\n",
       "    <tr>\n",
       "      <th>13</th>\n",
       "      <td>北汽新能源</td>\n",
       "      <td>在功能上，“轻享”平台支持芝麻信用分免押金租车，具备自动识别身份证、驾照等“黑科技”，实现了...</td>\n",
       "    </tr>\n",
       "    <tr>\n",
       "      <th>14</th>\n",
       "      <td>北汽新能源</td>\n",
       "      <td>驱车一个小时，北京商报记者来到了位于北京顺义区的北京汽车产业研发基地。在这座建筑面积17.4...</td>\n",
       "    </tr>\n",
       "    <tr>\n",
       "      <th>15</th>\n",
       "      <td>吉利控股</td>\n",
       "      <td>两年前，如果你驱车前往金华开发区金星南街的尽头，会觉得这里是一片不起眼的荒野之地。而如今，新...</td>\n",
       "    </tr>\n",
       "    <tr>\n",
       "      <th>16</th>\n",
       "      <td>吉利控股</td>\n",
       "      <td>Polestar高性能电动车成都生产中心效果图\\n\\n新能源汽车产业作为近年来的风口产业，深...</td>\n",
       "    </tr>\n",
       "    <tr>\n",
       "      <th>17</th>\n",
       "      <td>吉利控股</td>\n",
       "      <td>2月24日，吉利控股集团在其官方微信中宣布，旗下吉利集团有限公司已通过海外公司，在二级市场上...</td>\n",
       "    </tr>\n",
       "    <tr>\n",
       "      <th>18</th>\n",
       "      <td>吉利控股</td>\n",
       "      <td>中新网3月5日电 近日，由寰球汽车主办的“国际大背景下——看中国汽车的新机遇”论坛活动在京举...</td>\n",
       "    </tr>\n",
       "    <tr>\n",
       "      <th>19</th>\n",
       "      <td>奇瑞新能源</td>\n",
       "      <td>9月的德国，阴雨绵绵。莱茵河畔，素有汽车工业“奥运会”美誉的法兰克福车展如期举办。尽管沃尔沃...</td>\n",
       "    </tr>\n",
       "    <tr>\n",
       "      <th>20</th>\n",
       "      <td>奇瑞新能源</td>\n",
       "      <td>“继奥运地铁后，汽车正成为又一张中国名片。”在11月11日举行的奇瑞汽车股份有限公司“WWW...</td>\n",
       "    </tr>\n",
       "    <tr>\n",
       "      <th>21</th>\n",
       "      <td>威马汽车</td>\n",
       "      <td>从2016年开始，互联网造车就已经开始成为电动汽车发展大潮中的一股新势力，每一家造车企业都希...</td>\n",
       "    </tr>\n",
       "    <tr>\n",
       "      <th>22</th>\n",
       "      <td>威马汽车</td>\n",
       "      <td>近日，工信部公布了《道路机动车辆生产企业及产品公告》（第304批）（以下简称《公告》），并将...</td>\n",
       "    </tr>\n",
       "    <tr>\n",
       "      <th>23</th>\n",
       "      <td>威马汽车</td>\n",
       "      <td>经过近两年的“抢钱抢人”大战之后，造车新势力逐渐摘掉了“PPT”造车的帽子。  \\n\\n  ...</td>\n",
       "    </tr>\n",
       "    <tr>\n",
       "      <th>24</th>\n",
       "      <td>小鹏汽车</td>\n",
       "      <td>小鹏汽车联合创始人兼总裁夏珩忽如一夜春风来，互联网造车风口起。在广州，有这么一群人和一家低调...</td>\n",
       "    </tr>\n",
       "    <tr>\n",
       "      <th>25</th>\n",
       "      <td>小鹏汽车</td>\n",
       "      <td>以小鹏、蔚来、车和家、奇点为代表的互联网圈造车新势力群雄兴起。这次颠覆性变革的底层是可再生能...</td>\n",
       "    </tr>\n",
       "    <tr>\n",
       "      <th>26</th>\n",
       "      <td>小鹏汽车</td>\n",
       "      <td>造车新势力正不断解决“粮草”的问题，通过持续融资获得前行的力量。29日，小鹏汽车对外公布，启...</td>\n",
       "    </tr>\n",
       "    <tr>\n",
       "      <th>27</th>\n",
       "      <td>小鹏汽车</td>\n",
       "      <td>济南报道神州优车最近动作不断。先是 6 月 5 日募集资金 24 亿元，主要用于旗下神州买买...</td>\n",
       "    </tr>\n",
       "    <tr>\n",
       "      <th>28</th>\n",
       "      <td>小鹏汽车</td>\n",
       "      <td>9月13日，小鹏汽车Beta版电动SUV在北京发布。与乐视、游侠等互联网汽车品牌相比，小鹏汽...</td>\n",
       "    </tr>\n",
       "    <tr>\n",
       "      <th>29</th>\n",
       "      <td>小鹏汽车</td>\n",
       "      <td>对于新创者而言，时间胜过一切。在高手林立的造车新势力中，小鹏汽车一直是“领先半步”的幸运者。...</td>\n",
       "    </tr>\n",
       "    <tr>\n",
       "      <th>30</th>\n",
       "      <td>比亚迪</td>\n",
       "      <td>近日，国家奥林匹克公园，灯火绚丽，游人如织。9年前的北京夏季奥林匹克运动会让世界的目光聚焦于...</td>\n",
       "    </tr>\n",
       "    <tr>\n",
       "      <th>31</th>\n",
       "      <td>比亚迪</td>\n",
       "      <td>将推微型电动车 进入三四线城市\\n\\n    日前，比亚迪公布的2017年半年度报告显示，公...</td>\n",
       "    </tr>\n",
       "    <tr>\n",
       "      <th>32</th>\n",
       "      <td>比亚迪</td>\n",
       "      <td>“比亚迪在整体战略上的领先优势减少了，现在我们在产品上要保持领先和战略上的细微领先。”王传福...</td>\n",
       "    </tr>\n",
       "    <tr>\n",
       "      <th>33</th>\n",
       "      <td>比亚迪</td>\n",
       "      <td>2016年是比亚迪成立以来最成功的一年，企业营业收入突破1000亿元，净利润超过50亿元，这...</td>\n",
       "    </tr>\n",
       "    <tr>\n",
       "      <th>34</th>\n",
       "      <td>比亚迪</td>\n",
       "      <td>从2008年的F3 DM到2011年的e6,再到第30万辆新能源汽车下线,历经10年之路,比...</td>\n",
       "    </tr>\n",
       "    <tr>\n",
       "      <th>35</th>\n",
       "      <td>比亚迪</td>\n",
       "      <td>由于举办时间临近年底，举办地点位于市场广阔的华南腹地，每年广州车展对于汽车厂商总结过去一年市...</td>\n",
       "    </tr>\n",
       "    <tr>\n",
       "      <th>36</th>\n",
       "      <td>江淮汽车</td>\n",
       "      <td>比起长城汽车董事长魏建军和总裁王凤英的自罚薪酬减半，业绩下滑巨大的江淮汽车在21日公布的年报...</td>\n",
       "    </tr>\n",
       "    <tr>\n",
       "      <th>37</th>\n",
       "      <td>江淮汽车</td>\n",
       "      <td>近日，安徽江淮汽车集团股份有限公司（以下简称“江淮汽车”，600418.SH）发布2017 ...</td>\n",
       "    </tr>\n",
       "    <tr>\n",
       "      <th>38</th>\n",
       "      <td>江淮汽车</td>\n",
       "      <td>近日，江淮汽车发布年报，2017年公司实现营业收入491.46亿元，同比下降6.37%；归属...</td>\n",
       "    </tr>\n",
       "    <tr>\n",
       "      <th>39</th>\n",
       "      <td>江淮汽车</td>\n",
       "      <td>中新网11月20日电 日前，江淮乘用车携旗下全新产品阵容出席第十五届广州车展，并正式推出高端...</td>\n",
       "    </tr>\n",
       "    <tr>\n",
       "      <th>40</th>\n",
       "      <td>江淮汽车</td>\n",
       "      <td>2017年,江淮走过最为艰难的一年。这一年江淮乘用车以同比下降39.51%收场,在以SUV为...</td>\n",
       "    </tr>\n",
       "    <tr>\n",
       "      <th>41</th>\n",
       "      <td>江淮汽车</td>\n",
       "      <td>本报记者 王欣 北京报道“目前中国自主新能源汽车过度聚焦经济型车，在中高档产品布局中略显苍白...</td>\n",
       "    </tr>\n",
       "    <tr>\n",
       "      <th>42</th>\n",
       "      <td>江淮汽车</td>\n",
       "      <td>30多年前，大众率先与国内企业合资，充分享受了市场发展的红利。30多年后的今天，大众再次占得...</td>\n",
       "    </tr>\n",
       "    <tr>\n",
       "      <th>43</th>\n",
       "      <td>江铃新能源</td>\n",
       "      <td>2017年，江铃集团实现营业收入806亿元，今年，企业将冲刺千亿级梦想。是什么支撑着江铃走到...</td>\n",
       "    </tr>\n",
       "    <tr>\n",
       "      <th>44</th>\n",
       "      <td>江铃新能源</td>\n",
       "      <td>日前，中国工业报记者在江西省工业和信息化工作会议现场了解到，2017年江铃集团实现营业收入8...</td>\n",
       "    </tr>\n",
       "    <tr>\n",
       "      <th>45</th>\n",
       "      <td>知豆</td>\n",
       "      <td>在新能源汽车发展的诡谲浪潮之下，有那么一家电动车公司不声不响却销量暴涨，成为新能源车市“闷声...</td>\n",
       "    </tr>\n",
       "    <tr>\n",
       "      <th>46</th>\n",
       "      <td>知豆</td>\n",
       "      <td>中国汽车出口国外市场不是什么新鲜事，但在欧洲做得风生水起，绝对够得上是新闻，反衬的是当年陆风...</td>\n",
       "    </tr>\n",
       "    <tr>\n",
       "      <th>47</th>\n",
       "      <td>知豆</td>\n",
       "      <td>想要促使我国新能源汽车尽快得到普及，仅仅是中央政府出台的一系列新能源汽车政策与补贴政策，显然...</td>\n",
       "    </tr>\n",
       "    <tr>\n",
       "      <th>48</th>\n",
       "      <td>知豆</td>\n",
       "      <td>近日，北京市长城企业战略研究所创始人、全国独角兽评选委员会首席专家武文生在“宁波新经济沙龙”...</td>\n",
       "    </tr>\n",
       "    <tr>\n",
       "      <th>49</th>\n",
       "      <td>蔚来汽车</td>\n",
       "      <td>不管将来结果如何，12月16日蔚来汽车推出ES8车型，都会是写进中国新能源汽车发展史中的一个...</td>\n",
       "    </tr>\n",
       "    <tr>\n",
       "      <th>50</th>\n",
       "      <td>蔚来汽车</td>\n",
       "      <td>12月15日，蔚来汽车发布首款量产电动汽车ES8。\\n\\n　　有人大赞蔚来是“中国的特斯拉”...</td>\n",
       "    </tr>\n",
       "    <tr>\n",
       "      <th>51</th>\n",
       "      <td>蔚来汽车</td>\n",
       "      <td>电动车和无人驾驶，这两项技术趋势正在改变汽车制造的行业规则和利润分配。而在中国，创业公司们正...</td>\n",
       "    </tr>\n",
       "    <tr>\n",
       "      <th>52</th>\n",
       "      <td>蔚来汽车</td>\n",
       "      <td>经历多轮融资的蔚来汽车，赴美IPO有望成为现实。2月28日，蔚来汽车赴美上市被曝出更多细节，...</td>\n",
       "    </tr>\n",
       "    <tr>\n",
       "      <th>53</th>\n",
       "      <td>长安新能源</td>\n",
       "      <td>这是最好的时代，也是最具挑战性的时代。这句话送给正在崛起中的中国自主品牌汽车。\\n\\n  虽...</td>\n",
       "    </tr>\n",
       "    <tr>\n",
       "      <th>54</th>\n",
       "      <td>长安新能源</td>\n",
       "      <td>天津报道“中国品牌的痛点是盈利能力不强，缺乏长期可持续、规模性盈利。此外投资模式发生改变，新...</td>\n",
       "    </tr>\n",
       "    <tr>\n",
       "      <th>55</th>\n",
       "      <td>长安新能源</td>\n",
       "      <td>上海报道今年，汽车市场猝不及防转入低速增长，使去年看好今年市场的厂家们纷纷调低了今年的市场目...</td>\n",
       "    </tr>\n",
       "    <tr>\n",
       "      <th>56</th>\n",
       "      <td>长安新能源</td>\n",
       "      <td>从1984年进入汽车领域至今，长安汽车已拥有30年造车历史，具备较为完善的产品研发、生产、制...</td>\n",
       "    </tr>\n",
       "    <tr>\n",
       "      <th>57</th>\n",
       "      <td>长安新能源</td>\n",
       "      <td>“中国混动联盟”将以怎样的方式存在?而在未来，他们又是否能跳出国内凡是“联盟”都难逃最终破裂...</td>\n",
       "    </tr>\n",
       "  </tbody>\n",
       "</table>\n",
       "</div>"
      ],
      "text/plain": [
       "   company                                                txt\n",
       "0    上汽乘用车  过去，中国车企在海外市场往往走的是价格战的老路。不过，有一个品牌一开始就剑指中高端市场，在海...\n",
       "1    上汽乘用车  2015年，新能源汽车市场可谓喜忧参半，喜的是实现了爆发性增长前途一片光明，忧的是发展过程中...\n",
       "2    上汽乘用车  上汽通用汽车作为行业领先企业，以创新求变的发展思路，提出从“卓越经营”到“卓越‘精’营”的战...\n",
       "3    上汽乘用车  曾经有专家提出，落后国际几十年的中国汽车可以在新能源汽车领域实现“弯道超车”。因为从商业化时...\n",
       "4    上汽乘用车  本报记者 何芳 实习生 马英歌 北京报道3月13日，在大众集团柏林宣布2017财年业绩的同时...\n",
       "5    众泰新能源  对于传统能源汽车而言，零部件使用的主要原材料为钢材、石油、有色金属、天胶、布料及其他材料，近...\n",
       "6    众泰新能源  今年以来，中央与各地政府密集出台了针对新能源汽车的补贴政策，并于9月1日起正式免征新能源汽车...\n",
       "7    众泰新能源  十、本次交易对中小投资者权益保护的安排\\n\\n（一）严格履行相关程序并及时履行信息披露义务\\...\n",
       "8    北汽新能源  对于布局“一盘大棋”的北京新能源汽车股份有限公司（以下简称“北汽新能源”）来说，借道“S?鄢...\n",
       "9    北汽新能源  北京商报讯（记者）1月9日，北汽新能源交出了一份去年的成绩单，产销量双双破10万辆，成为首家...\n",
       "10   北汽新能源  “8年奋战，8年领先，北汽新能源以自己的创新与奋进在过去8年里向消费者以及投资人交出了一份满...\n",
       "11   北汽新能源  今年前十个月，新能源汽车产销增幅再度超越整个汽车行业的十倍之上，在收获佳绩的同时，越来越多的...\n",
       "12   北汽新能源  充电模式逐渐规模化之后，北汽新能源另辟蹊径，开启百亿“换电计划”。11月3日，北汽新能源副总...\n",
       "13   北汽新能源  在功能上，“轻享”平台支持芝麻信用分免押金租车，具备自动识别身份证、驾照等“黑科技”，实现了...\n",
       "14   北汽新能源  驱车一个小时，北京商报记者来到了位于北京顺义区的北京汽车产业研发基地。在这座建筑面积17.4...\n",
       "15    吉利控股  两年前，如果你驱车前往金华开发区金星南街的尽头，会觉得这里是一片不起眼的荒野之地。而如今，新...\n",
       "16    吉利控股  Polestar高性能电动车成都生产中心效果图\\n\\n新能源汽车产业作为近年来的风口产业，深...\n",
       "17    吉利控股  2月24日，吉利控股集团在其官方微信中宣布，旗下吉利集团有限公司已通过海外公司，在二级市场上...\n",
       "18    吉利控股  中新网3月5日电 近日，由寰球汽车主办的“国际大背景下——看中国汽车的新机遇”论坛活动在京举...\n",
       "19   奇瑞新能源  9月的德国，阴雨绵绵。莱茵河畔，素有汽车工业“奥运会”美誉的法兰克福车展如期举办。尽管沃尔沃...\n",
       "20   奇瑞新能源  “继奥运地铁后，汽车正成为又一张中国名片。”在11月11日举行的奇瑞汽车股份有限公司“WWW...\n",
       "21    威马汽车  从2016年开始，互联网造车就已经开始成为电动汽车发展大潮中的一股新势力，每一家造车企业都希...\n",
       "22    威马汽车  近日，工信部公布了《道路机动车辆生产企业及产品公告》（第304批）（以下简称《公告》），并将...\n",
       "23    威马汽车  经过近两年的“抢钱抢人”大战之后，造车新势力逐渐摘掉了“PPT”造车的帽子。  \\n\\n  ...\n",
       "24    小鹏汽车  小鹏汽车联合创始人兼总裁夏珩忽如一夜春风来，互联网造车风口起。在广州，有这么一群人和一家低调...\n",
       "25    小鹏汽车  以小鹏、蔚来、车和家、奇点为代表的互联网圈造车新势力群雄兴起。这次颠覆性变革的底层是可再生能...\n",
       "26    小鹏汽车  造车新势力正不断解决“粮草”的问题，通过持续融资获得前行的力量。29日，小鹏汽车对外公布，启...\n",
       "27    小鹏汽车  济南报道神州优车最近动作不断。先是 6 月 5 日募集资金 24 亿元，主要用于旗下神州买买...\n",
       "28    小鹏汽车  9月13日，小鹏汽车Beta版电动SUV在北京发布。与乐视、游侠等互联网汽车品牌相比，小鹏汽...\n",
       "29    小鹏汽车  对于新创者而言，时间胜过一切。在高手林立的造车新势力中，小鹏汽车一直是“领先半步”的幸运者。...\n",
       "30     比亚迪  近日，国家奥林匹克公园，灯火绚丽，游人如织。9年前的北京夏季奥林匹克运动会让世界的目光聚焦于...\n",
       "31     比亚迪  将推微型电动车 进入三四线城市\\n\\n    日前，比亚迪公布的2017年半年度报告显示，公...\n",
       "32     比亚迪  “比亚迪在整体战略上的领先优势减少了，现在我们在产品上要保持领先和战略上的细微领先。”王传福...\n",
       "33     比亚迪  2016年是比亚迪成立以来最成功的一年，企业营业收入突破1000亿元，净利润超过50亿元，这...\n",
       "34     比亚迪  从2008年的F3 DM到2011年的e6,再到第30万辆新能源汽车下线,历经10年之路,比...\n",
       "35     比亚迪  由于举办时间临近年底，举办地点位于市场广阔的华南腹地，每年广州车展对于汽车厂商总结过去一年市...\n",
       "36    江淮汽车  比起长城汽车董事长魏建军和总裁王凤英的自罚薪酬减半，业绩下滑巨大的江淮汽车在21日公布的年报...\n",
       "37    江淮汽车  近日，安徽江淮汽车集团股份有限公司（以下简称“江淮汽车”，600418.SH）发布2017 ...\n",
       "38    江淮汽车  近日，江淮汽车发布年报，2017年公司实现营业收入491.46亿元，同比下降6.37%；归属...\n",
       "39    江淮汽车  中新网11月20日电 日前，江淮乘用车携旗下全新产品阵容出席第十五届广州车展，并正式推出高端...\n",
       "40    江淮汽车  2017年,江淮走过最为艰难的一年。这一年江淮乘用车以同比下降39.51%收场,在以SUV为...\n",
       "41    江淮汽车  本报记者 王欣 北京报道“目前中国自主新能源汽车过度聚焦经济型车，在中高档产品布局中略显苍白...\n",
       "42    江淮汽车  30多年前，大众率先与国内企业合资，充分享受了市场发展的红利。30多年后的今天，大众再次占得...\n",
       "43   江铃新能源  2017年，江铃集团实现营业收入806亿元，今年，企业将冲刺千亿级梦想。是什么支撑着江铃走到...\n",
       "44   江铃新能源  日前，中国工业报记者在江西省工业和信息化工作会议现场了解到，2017年江铃集团实现营业收入8...\n",
       "45      知豆  在新能源汽车发展的诡谲浪潮之下，有那么一家电动车公司不声不响却销量暴涨，成为新能源车市“闷声...\n",
       "46      知豆  中国汽车出口国外市场不是什么新鲜事，但在欧洲做得风生水起，绝对够得上是新闻，反衬的是当年陆风...\n",
       "47      知豆  想要促使我国新能源汽车尽快得到普及，仅仅是中央政府出台的一系列新能源汽车政策与补贴政策，显然...\n",
       "48      知豆  近日，北京市长城企业战略研究所创始人、全国独角兽评选委员会首席专家武文生在“宁波新经济沙龙”...\n",
       "49    蔚来汽车  不管将来结果如何，12月16日蔚来汽车推出ES8车型，都会是写进中国新能源汽车发展史中的一个...\n",
       "50    蔚来汽车  12月15日，蔚来汽车发布首款量产电动汽车ES8。\\n\\n　　有人大赞蔚来是“中国的特斯拉”...\n",
       "51    蔚来汽车  电动车和无人驾驶，这两项技术趋势正在改变汽车制造的行业规则和利润分配。而在中国，创业公司们正...\n",
       "52    蔚来汽车  经历多轮融资的蔚来汽车，赴美IPO有望成为现实。2月28日，蔚来汽车赴美上市被曝出更多细节，...\n",
       "53   长安新能源  这是最好的时代，也是最具挑战性的时代。这句话送给正在崛起中的中国自主品牌汽车。\\n\\n  虽...\n",
       "54   长安新能源  天津报道“中国品牌的痛点是盈利能力不强，缺乏长期可持续、规模性盈利。此外投资模式发生改变，新...\n",
       "55   长安新能源  上海报道今年，汽车市场猝不及防转入低速增长，使去年看好今年市场的厂家们纷纷调低了今年的市场目...\n",
       "56   长安新能源  从1984年进入汽车领域至今，长安汽车已拥有30年造车历史，具备较为完善的产品研发、生产、制...\n",
       "57   长安新能源  “中国混动联盟”将以怎样的方式存在?而在未来，他们又是否能跳出国内凡是“联盟”都难逃最终破裂..."
      ]
     },
     "execution_count": 11,
     "metadata": {},
     "output_type": "execute_result"
    }
   ],
   "source": [
    "data_txt"
   ]
  },
  {
   "cell_type": "code",
   "execution_count": null,
   "metadata": {},
   "outputs": [],
   "source": [
    "# 读入专利文本\n",
    "list_excel = ['北汽新能源','比亚迪','吉利控股','江淮汽车','江铃新能源',\\\n",
    "             '奇瑞新能源','上海汽车集团','长安新能源','知豆','众泰新能源','威马汽车','蔚来汽车','小鹏汽车']\n",
    "data_patent = pd.DataFrame()\n",
    "for excel in list_excel:\n",
    "    path = 'E://car//专利数据//' + excel + '.xlsx'\n",
    "    temp_data = pd.read_excel(path,sheet_name=('数据'))\n",
    "    temp_data = temp_data[[('标题'),('主权项'),('专利类型'),\\\n",
    "                          ('主分类号'),('分类号')]]\n",
    "    temp_data['company'] = excel\n",
    "    data_patent = pd.concat([data_patent, temp_data])\n",
    "data_patent.head()"
   ]
  },
  {
   "cell_type": "code",
   "execution_count": null,
   "metadata": {},
   "outputs": [],
   "source": [
    "data_patent[data_patent['company']=='小鹏汽车']"
   ]
  },
  {
   "cell_type": "code",
   "execution_count": null,
   "metadata": {},
   "outputs": [],
   "source": [
    "# 读入供筛选的专利号,筛选新能源车专利\n",
    "path = 'E://car//专利数据//专利分类号汇总.xlsx'\n",
    "data_category = pd.read_excel(path, sheet_name=('分类号汇总'))\n",
    "list_category = data_category[('汇总')].values\n",
    "import types\n",
    "def containCategory(x):\n",
    "    x = str(x)\n",
    "    if x.isdigit(): return False ##去掉数字的情况\n",
    "    this_categories = [c[:4] if len(c)>=4 else c for c in x.split(',')]\n",
    "    for c in this_categories:\n",
    "        if c in list_category: return True\n",
    "    return False\n",
    "data_patent = data_patent[data_patent[('专利类型')] != ('外观设计')]\n",
    "data_patent = data_patent[data_patent[('主分类号')].apply(containCategory)]"
   ]
  },
  {
   "cell_type": "code",
   "execution_count": null,
   "metadata": {},
   "outputs": [],
   "source": [
    "# 读入新闻文本\n",
    "path = 'E:\\car\\汽车企业数据汇总1124.xlsx'\n",
    "data_news = pd.read_excel(path, sheet_name=('电动车新闻'))\n",
    "data_news = data_news[[('标题'),('正文')]]\n",
    "data_news.head()"
   ]
  },
  {
   "cell_type": "code",
   "execution_count": null,
   "metadata": {},
   "outputs": [],
   "source": [
    "# 读入车辆评论文本\n",
    "path = 'E:\\work\\竞争对手\\数据\\车企\\汽车企业数据汇总1124.xlsx'\n",
    "data_car_comment = pd.read_excel(path.decode('utf8'), sheetname=('口碑').decode('utf8'))\n",
    "data_car_comment = data_car_comment[[('车型').decode('utf8'),('点评内容').decode('utf8')]]\n",
    "data_car_comment.head()"
   ]
  },
  {
   "cell_type": "code",
   "execution_count": null,
   "metadata": {},
   "outputs": [],
   "source": [
    "# 读入招聘文本\n",
    "list_excel = ['猎聘网北汽新能源招聘数据','猎聘网比亚迪招聘数据','猎聘网吉利汽车招聘数据','猎聘网江铃汽车招聘数据','猎聘网奇瑞汽车招聘数据',\\\n",
    "             '猎聘网上汽乘用车招聘数据','猎聘网长安汽车招聘数据','猎聘网知豆招聘数据','猎聘网众泰汽车招聘数据',\\\n",
    "             '猎聘网蔚来汽车招聘数据','猎聘网小鹏汽车招聘数据','猎聘网威马汽车招聘数据']\n",
    "data_recruit = pd.DataFrame()\n",
    "for excel in list_excel:\n",
    "    path = 'E://car//NEV招聘数据//' + excel + '.xlsx'\n",
    "    temp_data = pd.read_excel(path,sheet_name=('数据'))\n",
    "    temp_data = temp_data[[('职位名称'),('职位描述'),('所属部门')]]\n",
    "    temp_data['company'] = excel.replace('猎聘网','').replace('招聘数据','')\n",
    "    data_recruit = pd.concat([data_recruit, temp_data])\n",
    "data_recruit.head()"
   ]
  },
  {
   "cell_type": "markdown",
   "metadata": {},
   "source": [
    "## 2.分词与预处理"
   ]
  },
  {
   "cell_type": "markdown",
   "metadata": {},
   "source": [
    "### 2.1 分词"
   ]
  },
  {
   "cell_type": "code",
   "execution_count": 12,
   "metadata": {},
   "outputs": [],
   "source": [
    "txt = '全面负责新能源系列车型的项目质量管理工作① 牵头组织成立项目质量的工作小组；'"
   ]
  },
  {
   "cell_type": "code",
   "execution_count": 13,
   "metadata": {},
   "outputs": [
    {
     "name": "stderr",
     "output_type": "stream",
     "text": [
      "Building prefix dict from the default dictionary ...\n",
      "Loading model from cache C:\\Users\\acer\\AppData\\Local\\Temp\\jieba.cache\n",
      "Loading model cost 1.084 seconds.\n",
      "Prefix dict has been built succesfully.\n"
     ]
    },
    {
     "name": "stdout",
     "output_type": "stream",
     "text": [
      "全面,负责,新能源,系列,车型,的,项目,质量,管理工作,①, ,牵头,组织,成立,项目,质量,的,工作,小组,；\n"
     ]
    }
   ],
   "source": [
    "# from pyltp import Segmentor\n",
    "# cws_model_path = 'E:\\ltp_data\\cws.model'\n",
    "# segmentor = Segmentor()  # 初始化实例\n",
    "# segmentor.load(cws_model_path)  # 加载模型\n",
    "# segmentor.release()  # 释放模型\n",
    "\n",
    "# 分词\n",
    "def segment(txt):\n",
    "    return list(jieba.cut(txt))\n",
    "#     return list(segmentor.segment(txt))\n",
    "\n",
    "print(','.join(segment(txt)))"
   ]
  },
  {
   "cell_type": "markdown",
   "metadata": {},
   "source": [
    "### 2.2 去停用词"
   ]
  },
  {
   "cell_type": "code",
   "execution_count": 14,
   "metadata": {},
   "outputs": [],
   "source": [
    "## 读入停用词\n",
    "import re\n",
    "list_stopwords = []\n",
    "stop_word_path = 'E:\\ltp_data\\stopWords.txt'\n",
    "f = open(stop_word_path, encoding='utf8')\n",
    "for line in f.readlines():\n",
    "    list_stopwords.append(line.strip())\n",
    "f.close()\n",
    "## 删除停用词\n",
    "def filter_stopwords(list_segmentwords):\n",
    "    result = []\n",
    "    for word in list_segmentwords:\n",
    "        if word in list_stopwords: continue\n",
    "        if re.search(r'[0-9]', word) != None: continue\n",
    "        result.append(word)\n",
    "    return result\n",
    "\n",
    "# print(','.join(filter_stopwords(segment(txt))))"
   ]
  },
  {
   "cell_type": "markdown",
   "metadata": {},
   "source": [
    "### 2.3 同义词归并（暂无）"
   ]
  },
  {
   "cell_type": "markdown",
   "metadata": {},
   "source": [
    "## 3.生成每个品牌的词袋"
   ]
  },
  {
   "cell_type": "code",
   "execution_count": 15,
   "metadata": {},
   "outputs": [],
   "source": [
    "# 得到dict_车型_品牌\n",
    "path = 'E:\\car\\汽车企业数据汇总1124.xlsx'\n",
    "data_car_type = pd.read_excel(path, sheet_name=('车型'))\n",
    "data_car_type = data_car_type[[('品牌'),('型号')]]\n",
    "dict_cartype_carbrand = dict(zip(data_car_type[('型号')].values, data_car_type[('品牌')].values))"
   ]
  },
  {
   "cell_type": "code",
   "execution_count": 16,
   "metadata": {},
   "outputs": [],
   "source": [
    "# 得到品牌list\n",
    "list_brand = list(set(data_car_type[('品牌')].values))"
   ]
  },
  {
   "cell_type": "code",
   "execution_count": 17,
   "metadata": {},
   "outputs": [],
   "source": [
    "# 需要使用到的函数\n",
    "from sklearn import feature_extraction  \n",
    "from sklearn.feature_extraction.text import TfidfTransformer  \n",
    "from sklearn.feature_extraction.text import CountVectorizer \n",
    "from sklearn.datasets import load_iris\n",
    "from sklearn.feature_selection import SelectKBest\n",
    "from sklearn.feature_selection import chi2\n",
    "\n",
    "## 输出领域词表，并返回list_mywords\n",
    "# def writeMyWords(path, kbest, word):\n",
    "#     result = []\n",
    "#     f = open(path, 'w')\n",
    "#     for i in kbest.get_support(True):\n",
    "#         result.append(word[i].encode('gb18030'))\n",
    "#         f.write(word[i].encode('gb18030') + '\\r\\n')\n",
    "#     f.close()\n",
    "#     return result\n",
    "def writeMyWords(path, kbest, word):\n",
    "    result = []\n",
    "#     f = open(path, 'w')\n",
    "    for i in kbest.get_support(True):\n",
    "        result.append(word[i])\n",
    "#         f.write(word[i] + '\\r\\n')\n",
    "#     f.close()\n",
    "    return result\n",
    "\n",
    "## 只使用筛选后剩下的领域词表\n",
    "def filterMyWords(list_mywords, list_segmentwords):\n",
    "    result = []\n",
    "    for word in list_segmentwords:\n",
    "        if word in list_mywords: \n",
    "            result.append(word)\n",
    "    return result\n",
    "\n",
    "## 将各单独文本分词，存入list中\n",
    "def getListTxtWords(list_txts):\n",
    "    result = []\n",
    "    for txt in list_txts:\n",
    "        this_words = ' '.join(filter_stopwords(segment(txt)))\n",
    "        result.append(this_words)\n",
    "    return result\n",
    "\n",
    "def getListBrandWords(dict_brand_txts):\n",
    "    result = []\n",
    "    for brand in dict_brand_txts.keys():\n",
    "        this_words = ' '.join(filterMyWords(list_mywords, segment(dict_brand_txts[brand])))\n",
    "        result.append(this_words)\n",
    "    return result\n",
    "    \n",
    "\n",
    "## 将文本tfidf化\n",
    "### 参数：输入的文本\n",
    "def getTFIDF(list_txt_words):\n",
    "    vectorizer = CountVectorizer() #该类会将文本中的词语转换为词频矩阵，矩阵元素a[i][j] 表示j词在i类文本下的词频  \n",
    "    transformer = TfidfTransformer()\n",
    "    countVec = vectorizer.fit_transform(list_txt_words)\n",
    "    tfidf = transformer.fit_transform(countVec)\n",
    "    word = vectorizer.get_feature_names()\n",
    "    weight_count = countVec.toarray()#将tf-idf矩阵抽取出来，元素a[i][j]表示j词在i类文本中的tf-idf权重\n",
    "    weight_tfidf = tfidf.toarray()#将tf-idf矩阵抽取出来，元素a[i][j]表示j词在i类文本中的tf-idf权重\n",
    "    print('初始特征数：' + str(len(word)))\n",
    "    return word, tfidf, weight_count, weight_tfidf\n",
    "\n",
    "## 特征筛选\n",
    "def selectKBest(tfidf, listTarget, k):\n",
    "    kbest  = SelectKBest(chi2, k=1000).fit(tfidf, list_target)\n",
    "    X_new = kbest.transform(tfidf)\n",
    "    print(X_new.shape)\n",
    "    return kbest\n",
    "\n",
    "## 对线的权重最大最小标准化\n",
    "from sklearn import preprocessing\n",
    "def minMax(dict_line_weight):\n",
    "    scale = preprocessing.MinMaxScaler()\n",
    "    transform = scale.fit_transform(np.fromiter(dict_line_weight.values(),dtype=float).reshape(-1,1))\n",
    "    for i in range(len(dict_line_weight)):\n",
    "        dict_line_weight[list(dict_line_weight.keys())[i]] = transform[i][0]\n",
    "    return dict_line_weight"
   ]
  },
  {
   "cell_type": "markdown",
   "metadata": {},
   "source": [
    "### 3.0 专家"
   ]
  },
  {
   "cell_type": "code",
   "execution_count": 18,
   "metadata": {},
   "outputs": [],
   "source": [
    "# 每个品牌的车辆评论的文本\n",
    "dict_txt_brand_txts = {}\n",
    "# 逐个文本及其所属类别\n",
    "list_txts = []\n",
    "list_target = []\n",
    "for i in range(len(data_txt)):\n",
    "    brand = data_txt['company'].values[i]\n",
    "    this_txt = str(data_txt['txt'].values[i])\n",
    "    ## 每个品牌的车辆评论文本\n",
    "    if brand not in dict_txt_brand_txts:\n",
    "        dict_txt_brand_txts[brand] = ''\n",
    "    dict_txt_brand_txts[brand] = dict_txt_brand_txts[brand] + this_txt\n",
    "    ## 逐个文本及其所属类别\n",
    "    list_txts.append(this_txt)\n",
    "    list_target.append(brand)"
   ]
  },
  {
   "cell_type": "code",
   "execution_count": 19,
   "metadata": {},
   "outputs": [
    {
     "name": "stdout",
     "output_type": "stream",
     "text": [
      "初始特征数：8317\n",
      "(58, 1000)\n"
     ]
    }
   ],
   "source": [
    "# 将各文本list化，tfidf抽取特征，然后进行特征选择\n",
    "list_txt_txt_words = getListTxtWords(list_txts)\n",
    "# 将单独文本tf-idf化\n",
    "word_txt, tfidf_txt, weight_count_txt, weight_tfidf_txt = getTFIDF(list_txt_txt_words)\n",
    "# 将特征维度缩减到1000\n",
    "kbest = selectKBest(tfidf_txt, list_target, 1000)\n",
    "# 输出词表\n",
    "path = 'E:\\ltp_data\\word_txt.txt'\n",
    "list_mywords = writeMyWords(path, kbest, word_txt)"
   ]
  },
  {
   "cell_type": "code",
   "execution_count": 20,
   "metadata": {},
   "outputs": [
    {
     "name": "stdout",
     "output_type": "stream",
     "text": [
      "初始特征数：946\n"
     ]
    }
   ],
   "source": [
    "# 将各品牌文本list化，便于tfidf运算\n",
    "list_txt_brand_words = getListBrandWords(dict_txt_brand_txts)\n",
    "# 求品牌的tfidf\n",
    "word_brand, tfidf_brand, weight_count_brand, weight_tfidf_brand = getTFIDF(list_txt_brand_words)"
   ]
  },
  {
   "cell_type": "code",
   "execution_count": 21,
   "metadata": {},
   "outputs": [],
   "source": [
    "# 计算线的权重\n",
    "dict_txt_node_weight = {}\n",
    "dict_txt_line_weight = {}\n",
    "for i in range(len(dict_txt_brand_txts)):\n",
    "    dict_txt_node_weight[list(dict_txt_brand_txts.keys())[i]] = 1\n",
    "    for j in range(i+1, len(dict_txt_brand_txts)):\n",
    "        line = list(dict_txt_brand_txts.keys())[i] + ',' + list(dict_txt_brand_txts.keys())[j]\n",
    "        dict_txt_line_weight[line] = iNeedCos.cos(weight_tfidf_brand[i,:], weight_tfidf_brand[j, :])"
   ]
  },
  {
   "cell_type": "code",
   "execution_count": 22,
   "metadata": {},
   "outputs": [],
   "source": [
    "# 对线的权重最大最小标准化\n",
    "dict_txt_line_weight = minMax(dict_txt_line_weight)"
   ]
  },
  {
   "cell_type": "code",
   "execution_count": 23,
   "metadata": {},
   "outputs": [],
   "source": [
    "# 输出为网络\n",
    "path_ucinet = 'E://car//网络2//expert.net'\n",
    "path_gephi_node = 'E://car//网络2//expert_node.csv'\n",
    "path_gephi_line = 'E://car//网络2//expert_line.csv'\n",
    "iNeedNet.iNeedNet(dict_txt_node_weight, dict_txt_line_weight, False, False, path_ucinet, path_gephi_node, path_gephi_line)"
   ]
  },
  {
   "cell_type": "markdown",
   "metadata": {},
   "source": [
    "### 3.1 专利"
   ]
  },
  {
   "cell_type": "code",
   "execution_count": null,
   "metadata": {},
   "outputs": [],
   "source": [
    "# 每个品牌的车辆评论的文本\n",
    "dict_patent_brand_txts = {}\n",
    "# 逐个文本及其所属类别\n",
    "list_txts = []\n",
    "list_target = []\n",
    "for i in range(len(data_patent)):\n",
    "    brand = data_patent['company'].values[i]\n",
    "    this_txt = str(data_patent[('主权项')].values[i])\n",
    "#     this_txt = this_txt if isinstance(this_txt, unicode) else ''\n",
    "    this_txt = this_txt.replace(('授权'),'')\n",
    "    ## 每个品牌的车辆评论文本\n",
    "    if brand not in dict_patent_brand_txts:\n",
    "        dict_patent_brand_txts[brand] = ''\n",
    "    dict_patent_brand_txts[brand] = dict_patent_brand_txts[brand] + this_txt\n",
    "    ## 逐个文本及其所属类别\n",
    "    list_txts.append(this_txt)\n",
    "    list_target.append(brand)"
   ]
  },
  {
   "cell_type": "code",
   "execution_count": null,
   "metadata": {},
   "outputs": [],
   "source": [
    "len(list_txts)"
   ]
  },
  {
   "cell_type": "code",
   "execution_count": null,
   "metadata": {},
   "outputs": [],
   "source": [
    "# 将各文本list化，tfidf抽取特征，然后进行特征选择\n",
    "list_patent_txt_words = getListTxtWords(list_txts)\n",
    "# 将单独文本tf-idf化\n",
    "word_txt, tfidf_txt, weight_count_txt, weight_tfidf_txt = getTFIDF(list_patent_txt_words)\n",
    "# 将特征维度缩减到1000\n",
    "kbest = selectKBest(tfidf_txt, list_target, 1000)\n",
    "# 输出词表\n",
    "path = 'E:\\ltp_data\\word_patent.txt'\n",
    "list_mywords = writeMyWords(path, kbest, word_txt)"
   ]
  },
  {
   "cell_type": "code",
   "execution_count": null,
   "metadata": {
    "scrolled": true
   },
   "outputs": [],
   "source": [
    "# 将各品牌文本list化，便于tfidf运算\n",
    "list_patent_brand_words = getListBrandWords(dict_patent_brand_txts)\n",
    "# 求品牌的tfidf\n",
    "word_brand, tfidf_brand, weight_count_brand, weight_tfidf_brand = getTFIDF(list_patent_brand_words)"
   ]
  },
  {
   "cell_type": "code",
   "execution_count": null,
   "metadata": {},
   "outputs": [],
   "source": [
    "# 计算线的权重\n",
    "dict_patent_node_weight = {}\n",
    "dict_patent_line_weight = {}\n",
    "for i in range(len(dict_patent_brand_txts)):\n",
    "    dict_patent_node_weight[list(dict_patent_brand_txts.keys())[i]] = 1\n",
    "    for j in range(i+1, len(dict_patent_brand_txts)):\n",
    "        line = list(dict_patent_brand_txts.keys())[i] + ',' + list(dict_patent_brand_txts.keys())[j]\n",
    "        dict_patent_line_weight[line] = iNeedCos.cos(weight_tfidf_brand[i,:], weight_tfidf_brand[j, :])"
   ]
  },
  {
   "cell_type": "code",
   "execution_count": null,
   "metadata": {},
   "outputs": [],
   "source": [
    "# 对线的权重最大最小标准化\n",
    "dict_patent_line_weight = minMax(dict_patent_line_weight)"
   ]
  },
  {
   "cell_type": "code",
   "execution_count": null,
   "metadata": {},
   "outputs": [],
   "source": [
    "import importlib\n",
    "importlib.reload(iNeedNet)"
   ]
  },
  {
   "cell_type": "code",
   "execution_count": null,
   "metadata": {},
   "outputs": [],
   "source": [
    "# 输出为网络\n",
    "path_ucinet = 'E://car//网络2//patent.net'\n",
    "path_gephi_node = 'E://car//网络2//patent_node.csv'\n",
    "path_gephi_line = 'E://car//网络2//patent_line.csv'\n",
    "iNeedNet.iNeedNet(dict_patent_node_weight, dict_patent_line_weight, False, False, path_ucinet, path_gephi_node, path_gephi_line)"
   ]
  },
  {
   "cell_type": "markdown",
   "metadata": {},
   "source": [
    "### 3.2 新闻"
   ]
  },
  {
   "cell_type": "code",
   "execution_count": null,
   "metadata": {},
   "outputs": [],
   "source": [
    "# 根据标题写入新闻属于哪个车企品牌\n",
    "## 写入dict{车型关键词-品牌}\n",
    "dict_cartype_carbrand_news = {}\n",
    "for i in dict_cartype_carbrand:\n",
    "    ## 车型部分\n",
    "    car = i.replace(('新能源').decode('utf8'),'').replace(('能源').decode('utf8'),'').replace(('系列').decode('utf8'),'')\n",
    "    ## 英文部分\n",
    "    eng = re.findall(r'[\\u4e00-\\u9fa5]+',car) ##利用中文未编码，将非中文先筛选出来\n",
    "    eng = eng[0] if len(eng) == 1 else ''\n",
    "    ## 中文部分\n",
    "    cn = car.replace(eng,'')\n",
    "    ## 品牌部分\n",
    "    brand = dict_cartype_carbrand[i].replace(('新能源').decode('utf8'),'').replace(('集团').decode('utf8'),'')\n",
    "    ## 写入dict\n",
    "    if len(car) > 0: dict_cartype_carbrand_news[car] = dict_cartype_carbrand[i]\n",
    "    if len(eng) > 0: dict_cartype_carbrand_news[eng] = dict_cartype_carbrand[i]\n",
    "    if len(cn) > 0: dict_cartype_carbrand_news[cn] = dict_cartype_carbrand[i]\n",
    "    if len(brand) > 0: dict_cartype_carbrand_news[brand] = dict_cartype_carbrand[i]\n",
    "## 根据标题确定品牌\n",
    "def matchBrand(x):\n",
    "    for i in dict_cartype_carbrand_news:\n",
    "        if i in x: \n",
    "            return dict_cartype_carbrand_news[i]\n",
    "    return ''\n",
    "data_news['company'] = data_news[('标题').decode('utf8')].apply(matchBrand) "
   ]
  },
  {
   "cell_type": "code",
   "execution_count": null,
   "metadata": {},
   "outputs": [],
   "source": [
    "# 每个品牌的车辆评论的文本\n",
    "dict_news_brand_txts = {}\n",
    "# 逐个文本及其所属类别\n",
    "list_txts = []\n",
    "list_target = []\n",
    "for i in range(len(data_news)):\n",
    "    brand = data_news['company'].values[i]\n",
    "    if brand == '': continue\n",
    "    this_txt = data_news[('正文').decode('utf8')].values[i]\n",
    "    this_txt = this_txt if isinstance(this_txt, unicode) else ''\n",
    "    this_txt = this_txt.replace(('&nbsp').decode('utf8'),'')\n",
    "    this_txt = re.sub('(\\[.+\\])','',this_txt)\n",
    "    this_txt = re.sub(('\\（.+\\）').decode('utf8'),'',this_txt)\n",
    "    this_txt = re.sub(('查看同类文章.+').decode('utf8'),'',this_txt)\n",
    "    ## 每个品牌的车辆评论文本\n",
    "    if dict_news_brand_txts.has_key(brand) == False:\n",
    "        dict_news_brand_txts[brand] = ''\n",
    "    dict_news_brand_txts[brand] = dict_news_brand_txts[brand] + this_txt\n",
    "    ## 逐个文本及其所属类别\n",
    "    list_txts.append(this_txt)\n",
    "    list_target.append(brand)"
   ]
  },
  {
   "cell_type": "code",
   "execution_count": null,
   "metadata": {},
   "outputs": [],
   "source": [
    "# 将各文本list化，tfidf抽取特征，然后进行特征选择\n",
    "list_news_txt_words = getListTxtWords(list_txts)\n",
    "# 将单独文本tf-idf化\n",
    "word_txt, tfidf_txt, weight_count_txt, weight_tfidf_txt = getTFIDF(list_news_txt_words)\n",
    "# 将特征维度缩减到1000\n",
    "kbest = selectKBest(tfidf_txt, list_target, 1000)\n",
    "# 输出词表\n",
    "path = 'E:\\ltp_data\\word_news.txt'\n",
    "list_mywords = writeMyWords(path, kbest, word_txt)"
   ]
  },
  {
   "cell_type": "code",
   "execution_count": null,
   "metadata": {},
   "outputs": [],
   "source": [
    "# 将各品牌文本list化，便于tfidf运算\n",
    "list_news_brand_words = getListBrandWords(dict_news_brand_txts)\n",
    "# 求品牌的tfidf\n",
    "word_brand, tfidf_brand, weight_count_brand, weight_tfidf_brand = getTFIDF(list_news_brand_words)"
   ]
  },
  {
   "cell_type": "code",
   "execution_count": null,
   "metadata": {},
   "outputs": [],
   "source": [
    "# 计算线的权重\n",
    "dict_news_node_weight = {}\n",
    "dict_news_line_weight = {}\n",
    "for i in range(len(dict_news_brand_txts)):\n",
    "    dict_news_node_weight[dict_news_brand_txts.keys()[i]] = 1\n",
    "    for j in range(i+1, len(dict_news_brand_txts)):\n",
    "        line = dict_news_brand_txts.keys()[i] + ',' + dict_news_brand_txts.keys()[j]\n",
    "        dict_news_line_weight[line] = iNeedCos.cos(weight_tfidf_brand[i,:], weight_tfidf_brand[j, :])"
   ]
  },
  {
   "cell_type": "code",
   "execution_count": null,
   "metadata": {},
   "outputs": [],
   "source": [
    "# 对线的权重最大最小标准化\n",
    "dict_news_line_weight = minMax(dict_news_line_weight)"
   ]
  },
  {
   "cell_type": "code",
   "execution_count": null,
   "metadata": {},
   "outputs": [],
   "source": [
    "# 输出为网络\n",
    "path_ucinet = 'E://work//竞争对手//数据//车企//网络//news.net'\n",
    "path_gephi_node = 'E://work//竞争对手//数据//车企//网络//news_node.csv'\n",
    "path_gephi_line = 'E://work//竞争对手//数据//车企//网络//news_line.csv'\n",
    "iNeedNet.iNeedNet(dict_news_node_weight, dict_news_line_weight, False, False, path_ucinet, path_gephi_node, path_gephi_line)"
   ]
  },
  {
   "cell_type": "markdown",
   "metadata": {},
   "source": [
    "### 3.3 车辆评论"
   ]
  },
  {
   "cell_type": "code",
   "execution_count": null,
   "metadata": {},
   "outputs": [],
   "source": [
    "# 每个品牌的车辆评论的文本\n",
    "dict_comment_brand_txts = {}\n",
    "# 逐个文本及其所属类别\n",
    "list_txts = []\n",
    "list_target = []\n",
    "for i in range(len(data_car_comment)):\n",
    "    brand = dict_cartype_carbrand[data_car_comment[('车型').decode('utf8')].values[i].split('-')[1]]\n",
    "    this_txt = data_car_comment[('点评内容').decode('utf8')].values[i]\n",
    "    this_txt = this_txt if isinstance(this_txt, unicode) else ''\n",
    "    this_txt = this_txt.replace(('【最满意的一点】').decode('utf8'),'')\\\n",
    "        .replace(('【最不满意的一点】').decode('utf8'),'')\\\n",
    "        .replace(('【空间】').decode('utf8'),'')\\\n",
    "        .replace(('【动力】').decode('utf8'),'')\n",
    "    ## 每个品牌的车辆评论文本\n",
    "    if dict_comment_brand_txts.has_key(brand) == False:\n",
    "        dict_comment_brand_txts[brand] = ''\n",
    "    dict_comment_brand_txts[brand] = dict_comment_brand_txts[brand] + this_txt\n",
    "    ## 逐个文本及其所属类别\n",
    "    list_txts.append(this_txt)\n",
    "    list_target.append(brand)"
   ]
  },
  {
   "cell_type": "code",
   "execution_count": null,
   "metadata": {},
   "outputs": [],
   "source": [
    "# 将各文本list化，tfidf抽取特征，然后进行特征选择\n",
    "list_comment_txt_words = getListTxtWords(list_txts)\n",
    "# 将单独文本tf-idf化\n",
    "word_txt, tfidf_txt, weight_count_txt, weight_tfidf_txt = getTFIDF(list_comment_txt_words)\n",
    "# 将特征维度缩减到1000\n",
    "kbest = selectKBest(tfidf_txt, list_target, 1000)\n",
    "# 输出词表\n",
    "path = 'E:\\ltp_data\\word_comment.txt'\n",
    "list_mywords = writeMyWords(path, kbest, word_txt)"
   ]
  },
  {
   "cell_type": "code",
   "execution_count": null,
   "metadata": {},
   "outputs": [],
   "source": [
    "# 将各品牌文本list化，便于tfidf运算\n",
    "list_comment_brand_words = getListBrandWords(dict_comment_brand_txts)\n",
    "# 求品牌的tfidf\n",
    "word_brand, tfidf_brand, weight_count_brand, weight_tfidf_brand = getTFIDF(list_comment_brand_words)"
   ]
  },
  {
   "cell_type": "code",
   "execution_count": null,
   "metadata": {
    "scrolled": true
   },
   "outputs": [],
   "source": [
    "# 计算线的权重\n",
    "dict_comment_node_weight = {}\n",
    "dict_comment_line_weight = {}\n",
    "for i in range(len(dict_comment_brand_txts)):\n",
    "    dict_comment_node_weight[dict_comment_brand_txts.keys()[i]] = 1\n",
    "    for j in range(i+1, len(dict_comment_brand_txts)):\n",
    "        line = dict_comment_brand_txts.keys()[i] + ',' + dict_comment_brand_txts.keys()[j]\n",
    "        dict_comment_line_weight[line] = iNeedCos.cos(weight_tfidf_brand[i,:], weight_tfidf_brand[j, :])"
   ]
  },
  {
   "cell_type": "code",
   "execution_count": null,
   "metadata": {
    "scrolled": true
   },
   "outputs": [],
   "source": [
    "# 对线的权重最大最小标准化\n",
    "dict_comment_line_weight = minMax(dict_comment_line_weight)"
   ]
  },
  {
   "cell_type": "code",
   "execution_count": null,
   "metadata": {},
   "outputs": [],
   "source": [
    "# 输出为网络\n",
    "path_ucinet = 'E:\\work\\竞争对手\\数据\\车企\\网络\\comment.net'\n",
    "path_gephi_node = 'E:\\work\\竞争对手\\数据\\车企\\网络\\comment_node.csv'\n",
    "path_gephi_line = 'E:\\work\\竞争对手\\数据\\车企\\网络\\comment_line.csv'\n",
    "iNeedNet.iNeedNet(dict_comment_node_weight, dict_comment_line_weight, False, False, path_ucinet, path_gephi_node, path_gephi_line)"
   ]
  },
  {
   "cell_type": "markdown",
   "metadata": {},
   "source": [
    "### 3.4 招聘"
   ]
  },
  {
   "cell_type": "code",
   "execution_count": null,
   "metadata": {},
   "outputs": [],
   "source": [
    "# 每个品牌的车辆评论的文本\n",
    "dict_recruit_brand_txts = {}\n",
    "# 逐个文本及其所属类别\n",
    "list_txts = []\n",
    "list_target = []\n",
    "for i in range(len(data_recruit)):\n",
    "    brand = data_recruit['company'].values[i]\n",
    "    this_txt = data_recruit[('职位描述')].values[i]\n",
    "#     this_txt = this_txt if isinstance(this_txt, unicode) else ''\n",
    "    this_txt = this_txt.replace(('职位描述'),'')\\\n",
    "        .replace(('岗位职责'),'')\\\n",
    "        .replace(('工作职责'),'')\n",
    "    ## 每个品牌的车辆评论文本\n",
    "    if brand not in dict_recruit_brand_txts:\n",
    "        dict_recruit_brand_txts[brand] = ''\n",
    "    dict_recruit_brand_txts[brand] = dict_recruit_brand_txts[brand] + this_txt\n",
    "    ## 逐个文本及其所属类别\n",
    "    list_txts.append(this_txt)\n",
    "    list_target.append(brand)"
   ]
  },
  {
   "cell_type": "code",
   "execution_count": null,
   "metadata": {},
   "outputs": [],
   "source": [
    "# 将各文本list化，tfidf抽取特征，然后进行特征选择\n",
    "list_recruit_txt_words = getListTxtWords(list_txts)\n",
    "# 将单独文本tf-idf化\n",
    "word_txt, tfidf_txt, weight_count_txt, weight_tfidf_txt = getTFIDF(list_recruit_txt_words)\n",
    "# 将特征维度缩减到1000\n",
    "kbest = selectKBest(tfidf_txt, list_target, 1000)\n",
    "# 输出词表\n",
    "path = 'E:\\ltp_data\\word_recruit.txt'\n",
    "list_mywords = writeMyWords(path, kbest, word_txt)"
   ]
  },
  {
   "cell_type": "code",
   "execution_count": null,
   "metadata": {},
   "outputs": [],
   "source": [
    "# 将各品牌文本list化，便于tfidf运算\n",
    "list_recruit_brand_words = getListBrandWords(dict_recruit_brand_txts)\n",
    "# 求品牌的tfidf\n",
    "word_brand, tfidf_brand, weight_count_brand, weight_tfidf_brand = getTFIDF(list_recruit_brand_words)"
   ]
  },
  {
   "cell_type": "code",
   "execution_count": null,
   "metadata": {},
   "outputs": [],
   "source": [
    "# 计算线的权重\n",
    "dict_recruit_node_weight = {}\n",
    "dict_recruit_line_weight = {}\n",
    "for i in range(len(dict_recruit_brand_txts)):\n",
    "    dict_recruit_node_weight[list(dict_recruit_brand_txts.keys())[i]] = 1\n",
    "    for j in range(i+1, len(dict_recruit_brand_txts)):\n",
    "        line = list(dict_recruit_brand_txts.keys())[i] + ',' + list(dict_recruit_brand_txts.keys())[j]\n",
    "        dict_recruit_line_weight[line] = iNeedCos.cos(weight_tfidf_brand[i,:], weight_tfidf_brand[j, :])"
   ]
  },
  {
   "cell_type": "code",
   "execution_count": null,
   "metadata": {},
   "outputs": [],
   "source": [
    "# 对线的权重最大最小标准化\n",
    "dict_recruit_line_weight = minMax(dict_recruit_line_weight)"
   ]
  },
  {
   "cell_type": "code",
   "execution_count": null,
   "metadata": {},
   "outputs": [],
   "source": [
    "# 输出为网络\n",
    "path_ucinet = 'E://car//网络2//recruit.net'\n",
    "path_gephi_node = 'E://car//网络2//recruit_node.csv'\n",
    "path_gephi_line = 'E://car//网络2//recruit_line.csv'\n",
    "iNeedNet.iNeedNet(dict_recruit_node_weight, dict_recruit_line_weight, False, False, path_ucinet, path_gephi_node, path_gephi_line)"
   ]
  },
  {
   "cell_type": "code",
   "execution_count": null,
   "metadata": {},
   "outputs": [],
   "source": []
  },
  {
   "cell_type": "markdown",
   "metadata": {},
   "source": [
    "# N.N inBook论文代码（借用下）"
   ]
  },
  {
   "cell_type": "code",
   "execution_count": null,
   "metadata": {},
   "outputs": [],
   "source": [
    "# 文字识别关键代码\n",
    "access_token = read_access_token() #获取token\n",
    "url = 'https://aip.baidubce.com/rest/2.0/ocr/v1/general_basic?access_token=' + access_token #构建接口url\n",
    "img=base64.b64encode(f.read()) #读取待识别照片\n",
    "response = urllib2.urlopen(request) #发送请求\n",
    "content = response.read() #获得初步识别结果"
   ]
  },
  {
   "cell_type": "code",
   "execution_count": null,
   "metadata": {},
   "outputs": [],
   "source": [
    "# 命名实体识别关键代码\n",
    "result = urllib.urlopen(url_get_base, urllib.urlencode(args)) #构建请求参数，从LTP语言云获取命名实体识别结果\n",
    "content = result.read() #读取内容\n",
    "list_word = [item.split(' ')[0].decode('utf-8') for item in content.split('\\n')] #识别出的命名实体列表\n",
    "jieba.load_userdict('..\\\\data\\\\entity.txt') #加载读者词典\n",
    "for w in pseg.cut(txt): #使用jieba分词第二次抽取命名实体\n",
    "    if (w.flag == 'ns') or (w.flag == 'nh') or (w.flag == 'ni') or (w.flag == 'nz'):\n",
    "        f len(w.word) < 2: continue #实体最短长度为2\n",
    "result.append(w.word)"
   ]
  },
  {
   "cell_type": "code",
   "execution_count": null,
   "metadata": {},
   "outputs": [],
   "source": [
    "# 聚合检索关键代码\n",
    "r=requests.get(\"http://data1.library.sh.cn/sg/work/data?keyword=\"+word+\"&key=***\") #从上图开放接口检索数据\n",
    "soup = requestSoup(\"https://book.douban.com/subject_search?search_text=\" + word + \"&cat=1001\") #构建soup，访问互联网资源\n",
    "for result in soup.find_all(class_='subject-item', limit=count):#抽取标题\n",
    "#...# #抽取内容、图片等内容\n",
    "this_search_list.append(search)"
   ]
  },
  {
   "cell_type": "code",
   "execution_count": null,
   "metadata": {},
   "outputs": [],
   "source": [
    "# 知识网络生成关键代码\n",
    "$output_node = implode(\"\", $node); #导入已经查询好的点和线数据\n",
    "$output_link = implode(\"\", $lnks);\n",
    "# 使用echarts绘制网络图 \n",
    "$outputjs = 'var page = require(\"webpage\").create();\n",
    "page.open(\"https://www.zhuomutech.com/net/'.$userID.'_net.html\", function(status) {\n",
    "console.log(\"Status: \" + status);\n",
    "if(status === \"success\") {\n",
    "page.render(\"net/'.$userID.'_'.$timename.'_net.png\");\n",
    "}\n",
    "phantom.exit();\n",
    "});';\n",
    "file_put_contents(\"net/run_\".$userID.\"_net.js\", $outputjs);\n",
    "$torf = exec('phantomjs E:/thinkphp_5.0.10_full/public/net/run_'.$userID.'_net.js'); #使用phantom模拟打开浏览器，保存网络图到服务器指定路径"
   ]
  }
 ],
 "metadata": {
  "kernelspec": {
   "display_name": "Python 3",
   "language": "python",
   "name": "python3"
  },
  "language_info": {
   "codemirror_mode": {
    "name": "ipython",
    "version": 3
   },
   "file_extension": ".py",
   "mimetype": "text/x-python",
   "name": "python",
   "nbconvert_exporter": "python",
   "pygments_lexer": "ipython3",
   "version": "3.6.4"
  }
 },
 "nbformat": 4,
 "nbformat_minor": 1
}
