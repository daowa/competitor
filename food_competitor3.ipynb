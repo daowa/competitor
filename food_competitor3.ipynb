{
 "cells": [
  {
   "cell_type": "code",
   "execution_count": 1,
   "metadata": {
    "collapsed": true
   },
   "outputs": [],
   "source": [
    "#coding=utf-8\n",
    "import numpy as np\n",
    "import pandas as pd"
   ]
  },
  {
   "cell_type": "markdown",
   "metadata": {},
   "source": [
    "## 1.原始数据"
   ]
  },
  {
   "cell_type": "code",
   "execution_count": 2,
   "metadata": {},
   "outputs": [
    {
     "data": {
      "text/html": [
       "<div>\n",
       "<style>\n",
       "    .dataframe thead tr:only-child th {\n",
       "        text-align: right;\n",
       "    }\n",
       "\n",
       "    .dataframe thead th {\n",
       "        text-align: left;\n",
       "    }\n",
       "\n",
       "    .dataframe tbody tr th {\n",
       "        vertical-align: top;\n",
       "    }\n",
       "</style>\n",
       "<table border=\"1\" class=\"dataframe\">\n",
       "  <thead>\n",
       "    <tr style=\"text-align: right;\">\n",
       "      <th></th>\n",
       "      <th>店铺id</th>\n",
       "      <th>time</th>\n",
       "      <th>list_user</th>\n",
       "    </tr>\n",
       "  </thead>\n",
       "  <tbody>\n",
       "    <tr>\n",
       "      <th>0</th>\n",
       "      <td>1427428057</td>\n",
       "      <td>2016-12</td>\n",
       "      <td>12008793.0|374148780.0|681652277.0|986942317.0...</td>\n",
       "    </tr>\n",
       "    <tr>\n",
       "      <th>1</th>\n",
       "      <td>1427428057</td>\n",
       "      <td>2017-01</td>\n",
       "      <td>90857981.0|208848176.0|374148780.0|405732538.0...</td>\n",
       "    </tr>\n",
       "    <tr>\n",
       "      <th>2</th>\n",
       "      <td>1427428057</td>\n",
       "      <td>2017-02</td>\n",
       "      <td>107428165.0|1247536771.0|1477529249.0|16135164...</td>\n",
       "    </tr>\n",
       "    <tr>\n",
       "      <th>3</th>\n",
       "      <td>1427428057</td>\n",
       "      <td>2017-03</td>\n",
       "      <td>539570707.0|681652277.0|730486572.0|731066425....</td>\n",
       "    </tr>\n",
       "    <tr>\n",
       "      <th>4</th>\n",
       "      <td>1427428057</td>\n",
       "      <td>2017-04</td>\n",
       "      <td>170226649.0|271244048.0|539570707.0|569260294....</td>\n",
       "    </tr>\n",
       "  </tbody>\n",
       "</table>\n",
       "</div>"
      ],
      "text/plain": [
       "         店铺id     time                                          list_user\n",
       "0  1427428057  2016-12  12008793.0|374148780.0|681652277.0|986942317.0...\n",
       "1  1427428057  2017-01  90857981.0|208848176.0|374148780.0|405732538.0...\n",
       "2  1427428057  2017-02  107428165.0|1247536771.0|1477529249.0|16135164...\n",
       "3  1427428057  2017-03  539570707.0|681652277.0|730486572.0|731066425....\n",
       "4  1427428057  2017-04  170226649.0|271244048.0|539570707.0|569260294...."
      ]
     },
     "execution_count": 2,
     "metadata": {},
     "output_type": "execute_result"
    }
   ],
   "source": [
    "## 用户列表\n",
    "path = ('E:\\\\work\\\\竞争对手\\\\数据\\\\餐饮-计量\\\\jzqb_users.csv').decode('utf-8')\n",
    "data_users = pd.read_csv(path, names=['店铺id','time','list_user'])\n",
    "data_users['店铺id'] = data_users['店铺id'].astype('int')\n",
    "data_users.head()"
   ]
  },
  {
   "cell_type": "code",
   "execution_count": 31,
   "metadata": {},
   "outputs": [],
   "source": [
    "## 店铺-地区\n",
    "import MySQLdb\n",
    "conn=MySQLdb.connect(host='192.168.1.119',user='mysqlsmda',passwd='123456',db='smda',port=3306,charset='utf8')\n",
    "sql = 'SELECT * FROM smda.tb_shoplocation'\n",
    "data_shoplocation = pd.read_sql(sql, conn)\n",
    "dict_shopid_location = dict(zip(data_shoplocation['shopid'].values,data_shoplocation['locationid'].values))\n",
    "## 写入本地\n",
    "path = ('E:\\\\work\\\\竞争对手\\\\数据\\\\餐饮-计量\\\\data_shoplocation.csv').decode('utf-8')\n",
    "data_shoplocation.to_csv(path, index=False)"
   ]
  },
  {
   "cell_type": "code",
   "execution_count": 4,
   "metadata": {},
   "outputs": [
    {
     "data": {
      "text/html": [
       "<div>\n",
       "<style>\n",
       "    .dataframe thead tr:only-child th {\n",
       "        text-align: right;\n",
       "    }\n",
       "\n",
       "    .dataframe thead th {\n",
       "        text-align: left;\n",
       "    }\n",
       "\n",
       "    .dataframe tbody tr th {\n",
       "        vertical-align: top;\n",
       "    }\n",
       "</style>\n",
       "<table border=\"1\" class=\"dataframe\">\n",
       "  <thead>\n",
       "    <tr style=\"text-align: right;\">\n",
       "      <th></th>\n",
       "      <th>店铺id</th>\n",
       "      <th>time</th>\n",
       "      <th>销量</th>\n",
       "      <th>location</th>\n",
       "    </tr>\n",
       "  </thead>\n",
       "  <tbody>\n",
       "    <tr>\n",
       "      <th>0</th>\n",
       "      <td>1427428057</td>\n",
       "      <td>2016-12</td>\n",
       "      <td>15</td>\n",
       "      <td>8388264bc5092cca</td>\n",
       "    </tr>\n",
       "    <tr>\n",
       "      <th>1</th>\n",
       "      <td>1427428057</td>\n",
       "      <td>2017-01</td>\n",
       "      <td>30</td>\n",
       "      <td>8388264bc5092cca</td>\n",
       "    </tr>\n",
       "    <tr>\n",
       "      <th>2</th>\n",
       "      <td>1427428057</td>\n",
       "      <td>2017-02</td>\n",
       "      <td>8</td>\n",
       "      <td>8388264bc5092cca</td>\n",
       "    </tr>\n",
       "    <tr>\n",
       "      <th>3</th>\n",
       "      <td>1427428057</td>\n",
       "      <td>2017-03</td>\n",
       "      <td>27</td>\n",
       "      <td>8388264bc5092cca</td>\n",
       "    </tr>\n",
       "    <tr>\n",
       "      <th>4</th>\n",
       "      <td>1427428057</td>\n",
       "      <td>2017-04</td>\n",
       "      <td>28</td>\n",
       "      <td>8388264bc5092cca</td>\n",
       "    </tr>\n",
       "  </tbody>\n",
       "</table>\n",
       "</div>"
      ],
      "text/plain": [
       "         店铺id     time  销量          location\n",
       "0  1427428057  2016-12  15  8388264bc5092cca\n",
       "1  1427428057  2017-01  30  8388264bc5092cca\n",
       "2  1427428057  2017-02   8  8388264bc5092cca\n",
       "3  1427428057  2017-03  27  8388264bc5092cca\n",
       "4  1427428057  2017-04  28  8388264bc5092cca"
      ]
     },
     "execution_count": 4,
     "metadata": {},
     "output_type": "execute_result"
    }
   ],
   "source": [
    "## 销量\n",
    "path = ('E:\\\\work\\\\竞争对手\\\\数据\\\\餐饮-计量\\\\jzqb_sales.csv').decode('utf-8')\n",
    "data_sales = pd.read_csv(path)\n",
    "data_sales['店铺id'] = data_sales['店铺id'].astype('int')\n",
    "## datasales加上地区信息\n",
    "def getLocation(x):\n",
    "    if dict_shopid_location.has_key(str(x)) == False: return -1\n",
    "    return dict_shopid_location[str(x)]\n",
    "data_sales['location'] = data_sales['店铺id'].apply(getLocation)\n",
    "data_sales = data_sales[data_sales['location']!=-1]\n",
    "data_sales.head()"
   ]
  },
  {
   "cell_type": "markdown",
   "metadata": {},
   "source": [
    "## 2.数据预处理"
   ]
  },
  {
   "cell_type": "code",
   "execution_count": 5,
   "metadata": {},
   "outputs": [
    {
     "data": {
      "text/plain": [
       "(34614, 4)"
      ]
     },
     "execution_count": 5,
     "metadata": {},
     "output_type": "execute_result"
    }
   ],
   "source": [
    "# 删去低销量的店铺(平均销量处于后10%的，即平均销量<=7.0的删去)\n",
    "temp = data_sales.groupby('店铺id').mean().sort_values('销量')\n",
    "temp = temp[temp['销量']>7]\n",
    "ids = temp.index\n",
    "data_sales = data_sales[data_sales['店铺id'].isin(ids)]\n",
    "data_sales.shape"
   ]
  },
  {
   "cell_type": "code",
   "execution_count": 6,
   "metadata": {},
   "outputs": [
    {
     "data": {
      "text/plain": [
       "(33094, 4)"
      ]
     },
     "execution_count": 6,
     "metadata": {},
     "output_type": "execute_result"
    }
   ],
   "source": [
    "# 删去数据缺失月份较多的店铺(共24个月，后10%的阈值是7个月)\n",
    "temp = data_sales.groupby('店铺id').count().sort_values('time')\n",
    "temp = temp[temp['time']>7]\n",
    "ids = temp.index\n",
    "data_sales = data_sales[data_sales['店铺id'].isin(ids)]\n",
    "data_sales.shape"
   ]
  },
  {
   "cell_type": "code",
   "execution_count": 7,
   "metadata": {},
   "outputs": [
    {
     "data": {
      "text/plain": [
       "(30838, 4)"
      ]
     },
     "execution_count": 7,
     "metadata": {},
     "output_type": "execute_result"
    }
   ],
   "source": [
    "## 掐头去尾\n",
    "data_sales = data_sales[(data_sales['time']!='2015-11')&(data_sales['time']!='2017-10')]\n",
    "data_sales.shape"
   ]
  },
  {
   "cell_type": "markdown",
   "metadata": {},
   "source": [
    "## 3.数据准备"
   ]
  },
  {
   "cell_type": "code",
   "execution_count": 8,
   "metadata": {
    "collapsed": true
   },
   "outputs": [],
   "source": [
    "# 每地区求每个月-企业数量\n",
    "data = data_sales.groupby(['time','location']).count().reset_index()\n",
    "data['key'] = data['location'] + data['time']\n",
    "dict_locationmonth_companycount = dict(zip(data['key'].values, data['销量'].values))"
   ]
  },
  {
   "cell_type": "code",
   "execution_count": 9,
   "metadata": {},
   "outputs": [],
   "source": [
    "# 求每地区每个月-市场规模\n",
    "data = data_sales.groupby(['time','location']).sum().reset_index()\n",
    "data['key'] = data['location'] + data['time']\n",
    "dict_locationmonth_marketscale = dict(zip(data['key'].values, data['销量'].values))"
   ]
  },
  {
   "cell_type": "code",
   "execution_count": 10,
   "metadata": {},
   "outputs": [],
   "source": [
    "# 每月企业所占本地区市场份额\n",
    "data_sales['share'] = data_sales[['time','location','销量']]\\\n",
    "    .apply(lambda x: float(x[2])/dict_locationmonth_marketscale[x[1]+x[0]], axis=1)"
   ]
  },
  {
   "cell_type": "code",
   "execution_count": 11,
   "metadata": {},
   "outputs": [],
   "source": [
    "# 每地区每个月-市场中平均每家企业的销量\n",
    "dict_locationmonth_marketavgsale = {}\n",
    "for key in dict_locationmonth_marketscale:\n",
    "    dict_locationmonth_marketavgsale[key] = dict_locationmonth_marketscale[key] / dict_locationmonth_companycount[key]"
   ]
  },
  {
   "cell_type": "code",
   "execution_count": 12,
   "metadata": {
    "collapsed": true
   },
   "outputs": [],
   "source": [
    "# 每地区每个月-市场中平均每家企业的市场份额\n",
    "dict_locationmonth_marketavgshare = {}\n",
    "for key in dict_locationmonth_marketscale:\n",
    "    dict_locationmonth_marketavgshare[key] = 1.0 / dict_locationmonth_companycount[key]"
   ]
  },
  {
   "cell_type": "code",
   "execution_count": 13,
   "metadata": {},
   "outputs": [
    {
     "name": "stdout",
     "output_type": "stream",
     "text": [
      "2408\n"
     ]
    }
   ],
   "source": [
    "# 其它数据\n",
    "## list_shop\n",
    "list_shop = list(set(data_sales['店铺id'].values))\n",
    "print len(list_shop)\n",
    "## list_month\n",
    "list_month = sorted(list(set(data_sales['time'].values)))"
   ]
  },
  {
   "cell_type": "code",
   "execution_count": 14,
   "metadata": {},
   "outputs": [],
   "source": [
    "# 给sales和users数据加索引，加快选择速度\n",
    "data_sales = data_sales.set_index(['店铺id','time'])\n",
    "data_users = data_users.set_index(['店铺id','time'])"
   ]
  },
  {
   "cell_type": "markdown",
   "metadata": {},
   "source": [
    "## 4.识别竞争对手"
   ]
  },
  {
   "cell_type": "code",
   "execution_count": 15,
   "metadata": {
    "collapsed": true
   },
   "outputs": [],
   "source": [
    "N = 3 #窗口期\n",
    "def getUsers(shopid, range_time):\n",
    "    result = ''\n",
    "    month_count = 0\n",
    "    for time_index in range_time:\n",
    "        try: #会有索引不到的问题，这里简陋点直接try跳过错误\n",
    "            result += data_users.ix[shopid, list_month[time_index]].values[0] + '|'\n",
    "            month_count += 1\n",
    "        except:\n",
    "            pass\n",
    "    result = set(result.split('|'))\n",
    "    return result, len(result), month_count\n",
    "def identify_competitor(time_index):\n",
    "    range_time = range(time_index-N, time_index)\n",
    "    ## 每个shop的用户列表\n",
    "    dict_shop_user = {}\n",
    "    dict_shop_usercount = {}\n",
    "    dict_shop_monthcount = {}\n",
    "    for shopid in list_shop:\n",
    "        result = getUsers(shopid, range_time)\n",
    "        dict_shop_user[shopid] = result[0]\n",
    "        dict_shop_usercount[shopid] = result[1]\n",
    "        dict_shop_monthcount[shopid] = result[2]\n",
    "    ## 计算共现\n",
    "    results = []\n",
    "    for shop1 in list_shop:\n",
    "        for shop2 in list_shop:\n",
    "            if shop1 == shop2: continue\n",
    "            if dict_shop_monthcount[shop1] < N: continue #窗口期内每个月都要有销量\n",
    "            if dict_shop_monthcount[shop2] < N: continue #窗口期内每个月都要有销量\n",
    "            if dict_shop_usercount[shop1] < 50: continue #窗口期内用户数量至少大于50\n",
    "            if dict_shop_usercount[shop2] < 50: continue #窗口期内用户数量至少大于50\n",
    "            if dict_shop_usercount[shop2] < dict_shop_usercount[shop1]*0.1: continue #竞企用户数至少超过10%\n",
    "            coincide = len(dict_shop_user[shop1] & dict_shop_user[shop2])\n",
    "            stress = float(coincide) / dict_shop_usercount[shop1]\n",
    "            if stress < 0.1: continue #不记录stress小于阈值的了，不然读取太慢\n",
    "            result = str(shop1) + ',' + str(shop2) + ',' + str(list_month[time_index]) + ',' + str(coincide) + ','\\\n",
    "                    + str(stress)\n",
    "            results.append(result)\n",
    "    return results"
   ]
  },
  {
   "cell_type": "code",
   "execution_count": 16,
   "metadata": {
    "scrolled": true
   },
   "outputs": [],
   "source": [
    "# # 识别竞争对手\n",
    "# ## 循环，计算每个时间前N个月的竞争关系\n",
    "# list_coincide = []\n",
    "# for time_index in range(N, len(list_month)):\n",
    "#     print time_index\n",
    "#     list_coincide.extend(identify_competitor(time_index))\n",
    "# ## 将coincide写入txt\n",
    "# path = ('E:\\\\work\\\\竞争对手\\\\数据\\\\餐饮-计量\\\\coincide_new_' + str(N) + '.csv').decode('utf-8')\n",
    "# f = open(path, 'w')\n",
    "# f.write('shop,competitor,time,coincide,stress\\r\\n')\n",
    "# for line in list_coincide:\n",
    "#     f.write(line + '\\r\\n')\n",
    "# f.close()"
   ]
  },
  {
   "cell_type": "code",
   "execution_count": 17,
   "metadata": {
    "scrolled": true
   },
   "outputs": [],
   "source": [
    "# 读取识别的竞争对手\n",
    "path = ('E:\\\\work\\\\竞争对手\\\\数据\\\\餐饮-计量\\\\coincide_new_' + str(N) + '.csv').decode('utf-8')\n",
    "data_coincide = pd.read_csv(path)"
   ]
  },
  {
   "cell_type": "code",
   "execution_count": 18,
   "metadata": {},
   "outputs": [
    {
     "name": "stdout",
     "output_type": "stream",
     "text": [
      "2090\n"
     ]
    }
   ],
   "source": [
    "# 用竞争数据更新下list_shop\n",
    "## list_shop\n",
    "list_shop = list(set(data_coincide['shop'].values))\n",
    "print len(list_shop)"
   ]
  },
  {
   "cell_type": "markdown",
   "metadata": {},
   "source": [
    "## 5.实证(检验识别的是不是竞争对手)"
   ]
  },
  {
   "cell_type": "code",
   "execution_count": 19,
   "metadata": {},
   "outputs": [
    {
     "name": "stdout",
     "output_type": "stream",
     "text": [
      "sum_competitors_performance: 0.0\n",
      "avg_competitors_performance: 0\n"
     ]
    }
   ],
   "source": [
    "competitor_section = [0.1,0.2,0.3,0.4,1] ##竞争强度区间\n",
    "## 获得竞争对手绩效之和\n",
    "def getCompetitorPerformanceSum(shopid, index_section, time, target):\n",
    "    _sum = 0.0\n",
    "    data = data_coincide[(data_coincide['shop']==shopid)&(data_coincide['time']==time)\\\n",
    "                        &(data_coincide['stress']>=competitor_section[index_section])\\\n",
    "                        &(data_coincide['stress']<competitor_section[index_section+1])]\n",
    "    competitors = list(data['competitor'].values)\n",
    "    for c in competitors:\n",
    "        try: ##目前这里的报错是因为没有索引值\n",
    "            _sum += data_sales.xs((c, time))[target]\n",
    "        except:\n",
    "            pass\n",
    "    return _sum\n",
    "## 获得竞争对手绩效之平均值\n",
    "def getCompetitorPerformanceAvg(shopid, index_section, time, target):\n",
    "    _sum = 0.0\n",
    "    _count = 0\n",
    "    data = data_coincide[(data_coincide['shop']==shopid)&(data_coincide['time']==time)\\\n",
    "                        &(data_coincide['stress']>=competitor_section[index_section])\\\n",
    "                        &(data_coincide['stress']<competitor_section[index_section+1])]\n",
    "    competitors = list(data['competitor'].values)\n",
    "    for c in competitors:\n",
    "        try: ##目前这里的报错是因为没有索引值\n",
    "            _sum += data_sales.xs((c, time))[target]\n",
    "            _count += 1\n",
    "        except:\n",
    "            pass\n",
    "    if _count == 0: return 0 ##避免除数为0的情况\n",
    "    return _sum/_count\n",
    "print 'sum_competitors_performance: ' + str(getCompetitorPerformanceSum(1486938201, 0, '2016-02','share'))\n",
    "print 'avg_competitors_performance: ' + str(getCompetitorPerformanceAvg(1486938201, 0, '2016-02','share'))"
   ]
  },
  {
   "cell_type": "code",
   "execution_count": 20,
   "metadata": {},
   "outputs": [
    {
     "name": "stdout",
     "output_type": "stream",
     "text": [
      "0.0380952380952\n",
      "0.0380952380952\n"
     ]
    }
   ],
   "source": [
    "## 获得本期绩效\n",
    "def getNowPerformance(shopid, time, target):\n",
    "    result = 0\n",
    "    try: #避免没有索引的情况\n",
    "        result = data_sales.xs((shopid, time))[target]\n",
    "    except:\n",
    "        pass\n",
    "    return result\n",
    "## 获得上期绩效\n",
    "def getLastPerformance(shopid, time, target):\n",
    "    result = 0\n",
    "    try:\n",
    "        result = data_sales.xs((shopid, list_month[list_month.index(time)-1]))[target]\n",
    "    except:\n",
    "        pass\n",
    "    return result\n",
    "print getNowPerformance(1427428057, '2017-02', 'share')\n",
    "print getLastPerformance(1427428057, '2017-03', 'share')"
   ]
  },
  {
   "cell_type": "code",
   "execution_count": 21,
   "metadata": {},
   "outputs": [
    {
     "name": "stdout",
     "output_type": "stream",
     "text": [
      "28.6666666667\n",
      "0.119870617788\n"
     ]
    }
   ],
   "source": [
    "## 获得企业前N个月平均销量，做控制变量\n",
    "def getEnterpriseSale(shopid, time_index):\n",
    "    times = range(time_index-N, time_index)\n",
    "    _sum = 0.0\n",
    "    _count = 0.0\n",
    "    for time in times:\n",
    "        try:\n",
    "            _sum += data_sales.loc[shopid, list_month[time]]['销量']\n",
    "            _count += 1\n",
    "        except:\n",
    "            pass\n",
    "    if _count == 0: return 0\n",
    "    return _sum/_count\n",
    "## 获得企业前N个月平均市场规模，做控制变量\n",
    "def getEnterpriseShare(shopid, time_index):\n",
    "    times = range(time_index-N, time_index)\n",
    "    _sum = 0.0\n",
    "    _count = 0.0\n",
    "    for time in times:\n",
    "        try:\n",
    "            _sum += data_sales.loc[shopid, list_month[time]]['share']\n",
    "            _count += 1\n",
    "        except:\n",
    "            pass\n",
    "    if _count == 0: return 0\n",
    "    return _sum/_count\n",
    "print getEnterpriseSale(1427428057,18)\n",
    "print getEnterpriseShare(1427428057,18)"
   ]
  },
  {
   "cell_type": "code",
   "execution_count": 22,
   "metadata": {},
   "outputs": [
    {
     "name": "stdout",
     "output_type": "stream",
     "text": [
      "210\n",
      "35\n",
      "0.166666666667\n"
     ]
    }
   ],
   "source": [
    "## 获得市场规模，做控制变量\n",
    "def getMarketSaleSum(shopid,time):\n",
    "    key = dict_shopid_location[str(shopid)] + time\n",
    "    return dict_locationmonth_marketscale[key]\n",
    "## 获得平均市场规模，做控制变量\n",
    "def getMarketSaleAvg(shopid, time):\n",
    "    key = dict_shopid_location[str(shopid)] + time\n",
    "    return dict_locationmonth_marketavgsale[key]\n",
    "def getMarketShareAvg(shopid, time):\n",
    "    key = dict_shopid_location[str(shopid)] + time\n",
    "    return dict_locationmonth_marketavgshare[key]\n",
    "print getMarketSaleSum(1427428057,'2017-02')\n",
    "print getMarketSaleAvg(1427428057,'2017-02')\n",
    "print getMarketShareAvg(1427428057,'2017-02')"
   ]
  },
  {
   "cell_type": "code",
   "execution_count": 23,
   "metadata": {
    "scrolled": true
   },
   "outputs": [
    {
     "name": "stdout",
     "output_type": "stream",
     "text": [
      "done\n"
     ]
    }
   ],
   "source": [
    "# 输出 月份，shopid，自身本期绩效，自身上期绩效，0级竞争者市场份额加总，1级竞争者，2级竞争者..\n",
    "path = ('E:\\\\work\\\\竞争对手\\\\数据\\\\餐饮-计量\\\\evidence_new_03.csv').decode('utf-8')\n",
    "f = open(path, 'w')\n",
    "f.write('time,shopid,performance_c,enterprise_sale,enterprise_share_c,'\\\n",
    "        + 'marketsalesum,marketsaleavg,marketshareavg_c,'\\\n",
    "        + 'competitor0_c,competitor1_c,competitor2_c,competitor3_c\\r\\n')\n",
    "for shopid in list_shop:\n",
    "    for time_index in range(N,len(list_month)):\n",
    "        time = list_month[time_index]\n",
    "        time_last = list_month[time_index-1]\n",
    "        performance_now = getNowPerformance(shopid, time,'share')\n",
    "        performance_last = getLastPerformance(shopid, time,'share')\n",
    "        if performance_now == 0: continue # 去除本月绩效为0的情况\n",
    "        if performance_last == 0: continue # 去除上月绩效为0的情况\n",
    "        list_competitor = [getCompetitorPerformanceSum(shopid, i, time, 'share') for i in range(4)]\n",
    "        list_competitor_last = [getCompetitorPerformanceSum(shopid, i, time_last, 'share') for i in range(4)] #上期竞争对手绩效\n",
    "        f.write(time + ',' + str(shopid) + ',' + str(performance_now-performance_last) + ','\\\n",
    "                + str(getEnterpriseSale(shopid,time_index)) + ','\n",
    "                + str(getEnterpriseShare(shopid,time_index)-getEnterpriseShare(shopid,time_index-1)) + ','\\\n",
    "                + str(getMarketSaleSum(shopid,time)) + ',' + str(getMarketSaleAvg(shopid,time)) + ','\\\n",
    "                + str(getMarketShareAvg(shopid,time)-getMarketShareAvg(shopid,time_last)) + ','\\\n",
    "                + str(list_competitor[0]-list_competitor_last[0]) + ','\\\n",
    "                + str(list_competitor[1]-list_competitor_last[1]) + ','\\\n",
    "                + str(list_competitor[2]-list_competitor_last[2]) + ','\\\n",
    "                + str(list_competitor[3]-list_competitor_last[3]) + '\\r\\n')\n",
    "print 'done'\n",
    "f.close()"
   ]
  },
  {
   "cell_type": "code",
   "execution_count": 24,
   "metadata": {},
   "outputs": [
    {
     "data": {
      "text/html": [
       "<div>\n",
       "<style>\n",
       "    .dataframe thead tr:only-child th {\n",
       "        text-align: right;\n",
       "    }\n",
       "\n",
       "    .dataframe thead th {\n",
       "        text-align: left;\n",
       "    }\n",
       "\n",
       "    .dataframe tbody tr th {\n",
       "        vertical-align: top;\n",
       "    }\n",
       "</style>\n",
       "<table border=\"1\" class=\"dataframe\">\n",
       "  <thead>\n",
       "    <tr style=\"text-align: right;\">\n",
       "      <th></th>\n",
       "      <th>time</th>\n",
       "      <th>shopid</th>\n",
       "      <th>performance_c</th>\n",
       "      <th>enterprise_sale</th>\n",
       "      <th>enterprise_share_c</th>\n",
       "      <th>marketsalesum</th>\n",
       "      <th>marketsaleavg</th>\n",
       "      <th>marketshareavg_c</th>\n",
       "      <th>competitor0_c</th>\n",
       "      <th>competitor1_c</th>\n",
       "      <th>competitor2_c</th>\n",
       "      <th>competitor3_c</th>\n",
       "    </tr>\n",
       "  </thead>\n",
       "  <tbody>\n",
       "    <tr>\n",
       "      <th>0</th>\n",
       "      <td>2016-03</td>\n",
       "      <td>1459224577</td>\n",
       "      <td>0.002021</td>\n",
       "      <td>354.666667</td>\n",
       "      <td>0.003752</td>\n",
       "      <td>23533</td>\n",
       "      <td>146</td>\n",
       "      <td>-0.001365</td>\n",
       "      <td>0.0</td>\n",
       "      <td>0.0</td>\n",
       "      <td>0.0</td>\n",
       "      <td>0.0</td>\n",
       "    </tr>\n",
       "    <tr>\n",
       "      <th>1</th>\n",
       "      <td>2016-04</td>\n",
       "      <td>1459224577</td>\n",
       "      <td>-0.000080</td>\n",
       "      <td>321.333333</td>\n",
       "      <td>-0.012814</td>\n",
       "      <td>25445</td>\n",
       "      <td>138</td>\n",
       "      <td>-0.000776</td>\n",
       "      <td>0.0</td>\n",
       "      <td>0.0</td>\n",
       "      <td>0.0</td>\n",
       "      <td>0.0</td>\n",
       "    </tr>\n",
       "    <tr>\n",
       "      <th>2</th>\n",
       "      <td>2016-05</td>\n",
       "      <td>1459224577</td>\n",
       "      <td>-0.003751</td>\n",
       "      <td>302.666667</td>\n",
       "      <td>-0.006496</td>\n",
       "      <td>30641</td>\n",
       "      <td>158</td>\n",
       "      <td>-0.000253</td>\n",
       "      <td>0.0</td>\n",
       "      <td>0.0</td>\n",
       "      <td>0.0</td>\n",
       "      <td>0.0</td>\n",
       "    </tr>\n",
       "    <tr>\n",
       "      <th>3</th>\n",
       "      <td>2016-06</td>\n",
       "      <td>1459224577</td>\n",
       "      <td>-0.004931</td>\n",
       "      <td>391.000000</td>\n",
       "      <td>-0.000603</td>\n",
       "      <td>31455</td>\n",
       "      <td>154</td>\n",
       "      <td>-0.000255</td>\n",
       "      <td>0.0</td>\n",
       "      <td>0.0</td>\n",
       "      <td>0.0</td>\n",
       "      <td>0.0</td>\n",
       "    </tr>\n",
       "    <tr>\n",
       "      <th>4</th>\n",
       "      <td>2016-07</td>\n",
       "      <td>1459224577</td>\n",
       "      <td>-0.000434</td>\n",
       "      <td>342.000000</td>\n",
       "      <td>-0.002921</td>\n",
       "      <td>39364</td>\n",
       "      <td>187</td>\n",
       "      <td>-0.000164</td>\n",
       "      <td>0.0</td>\n",
       "      <td>0.0</td>\n",
       "      <td>0.0</td>\n",
       "      <td>0.0</td>\n",
       "    </tr>\n",
       "  </tbody>\n",
       "</table>\n",
       "</div>"
      ],
      "text/plain": [
       "      time      shopid  performance_c  enterprise_sale  enterprise_share_c  \\\n",
       "0  2016-03  1459224577       0.002021       354.666667            0.003752   \n",
       "1  2016-04  1459224577      -0.000080       321.333333           -0.012814   \n",
       "2  2016-05  1459224577      -0.003751       302.666667           -0.006496   \n",
       "3  2016-06  1459224577      -0.004931       391.000000           -0.000603   \n",
       "4  2016-07  1459224577      -0.000434       342.000000           -0.002921   \n",
       "\n",
       "   marketsalesum  marketsaleavg  marketshareavg_c  competitor0_c  \\\n",
       "0          23533            146         -0.001365            0.0   \n",
       "1          25445            138         -0.000776            0.0   \n",
       "2          30641            158         -0.000253            0.0   \n",
       "3          31455            154         -0.000255            0.0   \n",
       "4          39364            187         -0.000164            0.0   \n",
       "\n",
       "   competitor1_c  competitor2_c  competitor3_c  \n",
       "0            0.0            0.0            0.0  \n",
       "1            0.0            0.0            0.0  \n",
       "2            0.0            0.0            0.0  \n",
       "3            0.0            0.0            0.0  \n",
       "4            0.0            0.0            0.0  "
      ]
     },
     "execution_count": 24,
     "metadata": {},
     "output_type": "execute_result"
    }
   ],
   "source": [
    "path = ('E:\\\\work\\\\竞争对手\\\\数据\\\\餐饮-计量\\\\evidence_new_03.csv').decode('utf-8')\n",
    "data = pd.read_csv(path)\n",
    "data.head()"
   ]
  },
  {
   "cell_type": "code",
   "execution_count": 25,
   "metadata": {},
   "outputs": [
    {
     "data": {
      "text/html": [
       "<div>\n",
       "<style>\n",
       "    .dataframe thead tr:only-child th {\n",
       "        text-align: right;\n",
       "    }\n",
       "\n",
       "    .dataframe thead th {\n",
       "        text-align: left;\n",
       "    }\n",
       "\n",
       "    .dataframe tbody tr th {\n",
       "        vertical-align: top;\n",
       "    }\n",
       "</style>\n",
       "<table border=\"1\" class=\"dataframe\">\n",
       "  <thead>\n",
       "    <tr style=\"text-align: right;\">\n",
       "      <th></th>\n",
       "      <th>time</th>\n",
       "      <th>shopid</th>\n",
       "      <th>performance_c</th>\n",
       "      <th>enterprise_sale</th>\n",
       "      <th>enterprise_share_c</th>\n",
       "      <th>marketsalesum</th>\n",
       "      <th>marketsaleavg</th>\n",
       "      <th>marketshareavg_c</th>\n",
       "      <th>competitor0_c</th>\n",
       "      <th>competitor1_c</th>\n",
       "      <th>competitor2_c</th>\n",
       "      <th>competitor3_c</th>\n",
       "    </tr>\n",
       "  </thead>\n",
       "  <tbody>\n",
       "    <tr>\n",
       "      <th>11264</th>\n",
       "      <td>2016-11</td>\n",
       "      <td>1508872008</td>\n",
       "      <td>0.003634</td>\n",
       "      <td>52.333333</td>\n",
       "      <td>0.001592</td>\n",
       "      <td>2441</td>\n",
       "      <td>59</td>\n",
       "      <td>0.002168</td>\n",
       "      <td>0.949907</td>\n",
       "      <td>0.000000</td>\n",
       "      <td>0.000000</td>\n",
       "      <td>0.000000</td>\n",
       "    </tr>\n",
       "    <tr>\n",
       "      <th>5251</th>\n",
       "      <td>2016-08</td>\n",
       "      <td>1485080311</td>\n",
       "      <td>0.013976</td>\n",
       "      <td>29.666667</td>\n",
       "      <td>0.002356</td>\n",
       "      <td>2671</td>\n",
       "      <td>60</td>\n",
       "      <td>0.000000</td>\n",
       "      <td>0.895939</td>\n",
       "      <td>0.000000</td>\n",
       "      <td>0.000000</td>\n",
       "      <td>0.000000</td>\n",
       "    </tr>\n",
       "    <tr>\n",
       "      <th>1650</th>\n",
       "      <td>2016-06</td>\n",
       "      <td>1430856203</td>\n",
       "      <td>-0.001252</td>\n",
       "      <td>61.000000</td>\n",
       "      <td>0.000085</td>\n",
       "      <td>4989</td>\n",
       "      <td>113</td>\n",
       "      <td>0.000000</td>\n",
       "      <td>0.866547</td>\n",
       "      <td>0.064141</td>\n",
       "      <td>0.094809</td>\n",
       "      <td>0.000000</td>\n",
       "    </tr>\n",
       "    <tr>\n",
       "      <th>2709</th>\n",
       "      <td>2016-06</td>\n",
       "      <td>1550615457</td>\n",
       "      <td>-0.003264</td>\n",
       "      <td>32.666667</td>\n",
       "      <td>0.000761</td>\n",
       "      <td>4989</td>\n",
       "      <td>113</td>\n",
       "      <td>0.000000</td>\n",
       "      <td>0.847807</td>\n",
       "      <td>0.158950</td>\n",
       "      <td>0.026057</td>\n",
       "      <td>0.174638</td>\n",
       "    </tr>\n",
       "    <tr>\n",
       "      <th>11165</th>\n",
       "      <td>2017-07</td>\n",
       "      <td>1671073566</td>\n",
       "      <td>-0.001617</td>\n",
       "      <td>27.000000</td>\n",
       "      <td>0.001354</td>\n",
       "      <td>9896</td>\n",
       "      <td>77</td>\n",
       "      <td>0.000061</td>\n",
       "      <td>0.801397</td>\n",
       "      <td>0.035267</td>\n",
       "      <td>0.000000</td>\n",
       "      <td>0.000000</td>\n",
       "    </tr>\n",
       "  </tbody>\n",
       "</table>\n",
       "</div>"
      ],
      "text/plain": [
       "          time      shopid  performance_c  enterprise_sale  \\\n",
       "11264  2016-11  1508872008       0.003634        52.333333   \n",
       "5251   2016-08  1485080311       0.013976        29.666667   \n",
       "1650   2016-06  1430856203      -0.001252        61.000000   \n",
       "2709   2016-06  1550615457      -0.003264        32.666667   \n",
       "11165  2017-07  1671073566      -0.001617        27.000000   \n",
       "\n",
       "       enterprise_share_c  marketsalesum  marketsaleavg  marketshareavg_c  \\\n",
       "11264            0.001592           2441             59          0.002168   \n",
       "5251             0.002356           2671             60          0.000000   \n",
       "1650             0.000085           4989            113          0.000000   \n",
       "2709             0.000761           4989            113          0.000000   \n",
       "11165            0.001354           9896             77          0.000061   \n",
       "\n",
       "       competitor0_c  competitor1_c  competitor2_c  competitor3_c  \n",
       "11264       0.949907       0.000000       0.000000       0.000000  \n",
       "5251        0.895939       0.000000       0.000000       0.000000  \n",
       "1650        0.866547       0.064141       0.094809       0.000000  \n",
       "2709        0.847807       0.158950       0.026057       0.174638  \n",
       "11165       0.801397       0.035267       0.000000       0.000000  "
      ]
     },
     "execution_count": 25,
     "metadata": {},
     "output_type": "execute_result"
    }
   ],
   "source": [
    "data.sort_values('competitor0_c',ascending=False).head()"
   ]
  },
  {
   "cell_type": "code",
   "execution_count": 26,
   "metadata": {},
   "outputs": [
    {
     "name": "stdout",
     "output_type": "stream",
     "text": [
      "-0.000605558877112\n"
     ]
    }
   ],
   "source": [
    "_mean = data['performance_c'].mean()\n",
    "print _mean\n",
    "data = data[data['performance_c']>_mean]"
   ]
  },
  {
   "cell_type": "code",
   "execution_count": 27,
   "metadata": {},
   "outputs": [
    {
     "data": {
      "text/plain": [
       "(13677, 12)"
      ]
     },
     "execution_count": 27,
     "metadata": {},
     "output_type": "execute_result"
    }
   ],
   "source": [
    "data.shape"
   ]
  },
  {
   "cell_type": "code",
   "execution_count": 28,
   "metadata": {
    "collapsed": true
   },
   "outputs": [],
   "source": [
    "path = ('E:\\\\work\\\\竞争对手\\\\数据\\\\餐饮-计量\\\\evidence_new_test.csv').decode('utf-8')\n",
    "data.to_csv(path,index=False)"
   ]
  },
  {
   "cell_type": "code",
   "execution_count": null,
   "metadata": {
    "collapsed": true
   },
   "outputs": [],
   "source": []
  }
 ],
 "metadata": {
  "kernelspec": {
   "display_name": "Python 2",
   "language": "python",
   "name": "python2"
  },
  "language_info": {
   "codemirror_mode": {
    "name": "ipython",
    "version": 2
   },
   "file_extension": ".py",
   "mimetype": "text/x-python",
   "name": "python",
   "nbconvert_exporter": "python",
   "pygments_lexer": "ipython2",
   "version": "2.7.13"
  }
 },
 "nbformat": 4,
 "nbformat_minor": 1
}
