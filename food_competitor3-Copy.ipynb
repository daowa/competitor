{
 "cells": [
  {
   "cell_type": "code",
   "execution_count": 1,
   "metadata": {
    "collapsed": true
   },
   "outputs": [],
   "source": [
    "#coding=utf-8\n",
    "import numpy as np\n",
    "import pandas as pd"
   ]
  },
  {
   "cell_type": "markdown",
   "metadata": {},
   "source": [
    "## 1.原始数据"
   ]
  },
  {
   "cell_type": "code",
   "execution_count": null,
   "metadata": {},
   "outputs": [],
   "source": [
    "## 用户列表\n",
    "path = ('E:\\\\work\\\\竞争对手\\\\数据\\\\餐饮-计量\\\\jzqb_users.csv').decode('utf-8')\n",
    "data_users = pd.read_csv(path, names=['店铺id','time','list_user'])\n",
    "data_users['店铺id'] = data_users['店铺id'].astype('int')\n",
    "data_users.head()"
   ]
  },
  {
   "cell_type": "code",
   "execution_count": null,
   "metadata": {
    "collapsed": true
   },
   "outputs": [],
   "source": [
    "## 店铺-地区\n",
    "import MySQLdb\n",
    "conn=MySQLdb.connect(host='192.168.1.119',user='mysqlsmda',passwd='123456',db='smda',port=3306,charset='utf8')\n",
    "sql = 'SELECT * FROM smda.tb_shoplocation'\n",
    "data_shoplocation = pd.read_sql(sql, conn)\n",
    "dict_shopid_location = dict(zip(data_shoplocation['shopid'].values,data_shoplocation['locationid'].values))\n",
    "## 写入本地\n",
    "path = ('E:\\\\work\\\\竞争对手\\\\数据\\\\餐饮-计量\\\\data_shoplocation.csv').decode('utf-8')\n",
    "data_shoplocation.to_csv(path, index=False)"
   ]
  },
  {
   "cell_type": "code",
   "execution_count": null,
   "metadata": {},
   "outputs": [],
   "source": [
    "## 销量\n",
    "path = ('E:\\\\work\\\\竞争对手\\\\数据\\\\餐饮-计量\\\\jzqb_sales.csv').decode('utf-8')\n",
    "data_sales = pd.read_csv(path)\n",
    "data_sales['店铺id'] = data_sales['店铺id'].astype('int')\n",
    "## datasales加上地区信息\n",
    "def getLocation(x):\n",
    "    if dict_shopid_location.has_key(str(x)) == False: return -1\n",
    "    return dict_shopid_location[str(x)]\n",
    "data_sales['location'] = data_sales['店铺id'].apply(getLocation)\n",
    "data_sales = data_sales[data_sales['location']!=-1]\n",
    "data_sales.head()"
   ]
  },
  {
   "cell_type": "markdown",
   "metadata": {},
   "source": [
    "## 2.数据预处理"
   ]
  },
  {
   "cell_type": "code",
   "execution_count": null,
   "metadata": {},
   "outputs": [],
   "source": [
    "# 删去低销量的店铺(平均销量处于后10%的，即平均销量<=7.0的删去)\n",
    "temp = data_sales.groupby('店铺id').mean().sort_values('销量')\n",
    "temp = temp[temp['销量']>7]\n",
    "ids = temp.index\n",
    "data_sales = data_sales[data_sales['店铺id'].isin(ids)]\n",
    "data_sales.shape"
   ]
  },
  {
   "cell_type": "code",
   "execution_count": null,
   "metadata": {},
   "outputs": [],
   "source": [
    "# 删去数据缺失月份较多的店铺(共24个月，后10%的阈值是7个月)\n",
    "temp = data_sales.groupby('店铺id').count().sort_values('time')\n",
    "temp = temp[temp['time']>7]\n",
    "ids = temp.index\n",
    "data_sales = data_sales[data_sales['店铺id'].isin(ids)]\n",
    "data_sales.shape"
   ]
  },
  {
   "cell_type": "code",
   "execution_count": null,
   "metadata": {},
   "outputs": [],
   "source": [
    "## 掐头去尾\n",
    "data_sales = data_sales[(data_sales['time']!='2015-11')&(data_sales['time']!='2017-10')]\n",
    "data_sales.shape"
   ]
  },
  {
   "cell_type": "markdown",
   "metadata": {},
   "source": [
    "## 3.数据准备"
   ]
  },
  {
   "cell_type": "code",
   "execution_count": null,
   "metadata": {
    "collapsed": true
   },
   "outputs": [],
   "source": [
    "# 每地区求每个月-企业数量\n",
    "data = data_sales.groupby(['time','location']).count().reset_index()\n",
    "data['key'] = data['location'] + data['time']\n",
    "dict_locationmonth_companycount = dict(zip(data['key'].values, data['销量'].values))"
   ]
  },
  {
   "cell_type": "code",
   "execution_count": null,
   "metadata": {
    "collapsed": true
   },
   "outputs": [],
   "source": [
    "# 求每地区每个月-市场规模\n",
    "data = data_sales.groupby(['time','location']).sum().reset_index()\n",
    "data['key'] = data['location'] + data['time']\n",
    "dict_locationmonth_marketscale = dict(zip(data['key'].values, data['销量'].values))"
   ]
  },
  {
   "cell_type": "code",
   "execution_count": null,
   "metadata": {
    "collapsed": true
   },
   "outputs": [],
   "source": [
    "# 每月企业所占本地区市场份额\n",
    "data_sales['share'] = data_sales[['time','location','销量']]\\\n",
    "    .apply(lambda x: float(x[2])/dict_locationmonth_marketscale[x[1]+x[0]], axis=1)"
   ]
  },
  {
   "cell_type": "code",
   "execution_count": null,
   "metadata": {
    "collapsed": true
   },
   "outputs": [],
   "source": [
    "# 每地区每个月-市场中平均每家企业的销量\n",
    "dict_locationmonth_marketavgsale = {}\n",
    "for key in dict_locationmonth_marketscale:\n",
    "    dict_locationmonth_marketavgsale[key] = dict_locationmonth_marketscale[key] / dict_locationmonth_companycount[key]"
   ]
  },
  {
   "cell_type": "code",
   "execution_count": null,
   "metadata": {
    "collapsed": true
   },
   "outputs": [],
   "source": [
    "# 每地区每个月-市场中平均每家企业的市场份额\n",
    "dict_locationmonth_marketavgshare = {}\n",
    "for key in dict_locationmonth_marketscale:\n",
    "    dict_locationmonth_marketavgshare[key] = 1.0 / dict_locationmonth_companycount[key]"
   ]
  },
  {
   "cell_type": "code",
   "execution_count": null,
   "metadata": {},
   "outputs": [],
   "source": [
    "# 其它数据\n",
    "## list_shop\n",
    "list_shop = list(set(data_sales['店铺id'].values))\n",
    "print len(list_shop)\n",
    "## list_month\n",
    "list_month = sorted(list(set(data_sales['time'].values)))"
   ]
  },
  {
   "cell_type": "code",
   "execution_count": null,
   "metadata": {
    "collapsed": true
   },
   "outputs": [],
   "source": [
    "# 给sales和users数据加索引，加快选择速度\n",
    "data_sales = data_sales.set_index(['店铺id','time'])\n",
    "data_users = data_users.set_index(['店铺id','time'])"
   ]
  },
  {
   "cell_type": "markdown",
   "metadata": {},
   "source": [
    "## 4.识别竞争对手"
   ]
  },
  {
   "cell_type": "code",
   "execution_count": null,
   "metadata": {
    "collapsed": true
   },
   "outputs": [],
   "source": [
    "N = 3 #窗口期\n",
    "def getUsers(shopid, range_time):\n",
    "    result = ''\n",
    "    month_count = 0\n",
    "    for time_index in range_time:\n",
    "        try: #会有索引不到的问题，这里简陋点直接try跳过错误\n",
    "            result += data_users.ix[shopid, list_month[time_index]].values[0] + '|'\n",
    "            month_count += 1\n",
    "        except:\n",
    "            pass\n",
    "    result = set(result.split('|'))\n",
    "    return result, len(result), month_count\n",
    "def identify_competitor(time_index):\n",
    "    range_time = range(time_index-N, time_index)\n",
    "    ## 每个shop的用户列表\n",
    "    dict_shop_user = {}\n",
    "    dict_shop_usercount = {}\n",
    "    dict_shop_monthcount = {}\n",
    "    for shopid in list_shop:\n",
    "        result = getUsers(shopid, range_time)\n",
    "        dict_shop_user[shopid] = result[0]\n",
    "        dict_shop_usercount[shopid] = result[1]\n",
    "        dict_shop_monthcount[shopid] = result[2]\n",
    "    ## 计算共现\n",
    "    results = []\n",
    "    for shop1 in list_shop:\n",
    "        for shop2 in list_shop:\n",
    "            if shop1 == shop2: continue\n",
    "            if dict_shop_monthcount[shop1] < N: continue #窗口期内每个月都要有销量\n",
    "            if dict_shop_monthcount[shop2] < N: continue #窗口期内每个月都要有销量\n",
    "            if dict_shop_usercount[shop1] < 50: continue #窗口期内用户数量至少大于50\n",
    "            if dict_shop_usercount[shop2] < 50: continue #窗口期内用户数量至少大于50\n",
    "            if dict_shop_usercount[shop2] < dict_shop_usercount[shop1]*0.1: continue #竞企用户数至少超过10%\n",
    "            coincide = len(dict_shop_user[shop1] & dict_shop_user[shop2])\n",
    "            stress = float(coincide) / dict_shop_usercount[shop1]\n",
    "            if stress < 0.1: continue #不记录stress小于阈值的了，不然读取太慢\n",
    "            result = str(shop1) + ',' + str(shop2) + ',' + str(list_month[time_index]) + ',' + str(coincide) + ','\\\n",
    "                    + str(stress)\n",
    "            results.append(result)\n",
    "    return results"
   ]
  },
  {
   "cell_type": "code",
   "execution_count": null,
   "metadata": {
    "collapsed": true,
    "scrolled": true
   },
   "outputs": [],
   "source": [
    "# # 识别竞争对手\n",
    "# ## 循环，计算每个时间前N个月的竞争关系\n",
    "# list_coincide = []\n",
    "# for time_index in range(N, len(list_month)):\n",
    "#     print time_index\n",
    "#     list_coincide.extend(identify_competitor(time_index))\n",
    "# ## 将coincide写入txt\n",
    "# path = ('E:\\\\work\\\\竞争对手\\\\数据\\\\餐饮-计量\\\\coincide_new_' + str(N) + '.csv').decode('utf-8')\n",
    "# f = open(path, 'w')\n",
    "# f.write('shop,competitor,time,coincide,stress\\r\\n')\n",
    "# for line in list_coincide:\n",
    "#     f.write(line + '\\r\\n')\n",
    "# f.close()"
   ]
  },
  {
   "cell_type": "code",
   "execution_count": null,
   "metadata": {
    "collapsed": true,
    "scrolled": true
   },
   "outputs": [],
   "source": [
    "# 读取识别的竞争对手\n",
    "path = ('E:\\\\work\\\\竞争对手\\\\数据\\\\餐饮-计量\\\\coincide_new_' + str(N) + '.csv').decode('utf-8')\n",
    "data_coincide = pd.read_csv(path)"
   ]
  },
  {
   "cell_type": "code",
   "execution_count": null,
   "metadata": {},
   "outputs": [],
   "source": [
    "# 用竞争数据更新下list_shop\n",
    "## list_shop\n",
    "list_shop = list(set(data_coincide['shop'].values))\n",
    "print len(list_shop)"
   ]
  },
  {
   "cell_type": "markdown",
   "metadata": {},
   "source": [
    "## 5.实证(检验识别的是不是竞争对手)"
   ]
  },
  {
   "cell_type": "code",
   "execution_count": null,
   "metadata": {},
   "outputs": [],
   "source": [
    "competitor_section = [0.1,0.2,0.3,0.4,1] ##竞争强度区间\n",
    "## 获得竞争对手绩效之和\n",
    "def getCompetitorPerformanceSum(shopid, index_section, time, target):\n",
    "    _sum = 0.0\n",
    "    data = data_coincide[(data_coincide['shop']==shopid)&(data_coincide['time']==time)\\\n",
    "                        &(data_coincide['stress']>=competitor_section[index_section])\\\n",
    "                        &(data_coincide['stress']<competitor_section[index_section+1])]\n",
    "    competitors = list(data['competitor'].values)\n",
    "    for c in competitors:\n",
    "        try: ##目前这里的报错是因为没有索引值\n",
    "            _sum += data_sales.xs((c, time))[target]\n",
    "        except:\n",
    "            pass\n",
    "    return _sum\n",
    "## 获得竞争对手绩效之平均值\n",
    "def getCompetitorPerformanceAvg(shopid, index_section, time, target):\n",
    "    _sum = 0.0\n",
    "    _count = 0\n",
    "    data = data_coincide[(data_coincide['shop']==shopid)&(data_coincide['time']==time)\\\n",
    "                        &(data_coincide['stress']>=competitor_section[index_section])\\\n",
    "                        &(data_coincide['stress']<competitor_section[index_section+1])]\n",
    "    competitors = list(data['competitor'].values)\n",
    "    for c in competitors:\n",
    "        try: ##目前这里的报错是因为没有索引值\n",
    "            _sum += data_sales.xs((c, time))[target]\n",
    "            _count += 1\n",
    "        except:\n",
    "            pass\n",
    "    if _count == 0: return 0 ##避免除数为0的情况\n",
    "    return _sum/_count\n",
    "print 'sum_competitors_performance: ' + str(getCompetitorPerformanceSum(1486938201, 0, '2016-02','share'))\n",
    "print 'avg_competitors_performance: ' + str(getCompetitorPerformanceAvg(1486938201, 0, '2016-02','share'))"
   ]
  },
  {
   "cell_type": "code",
   "execution_count": null,
   "metadata": {},
   "outputs": [],
   "source": [
    "## 获得本期绩效\n",
    "def getNowPerformance(shopid, time, target):\n",
    "    result = 0\n",
    "    try: #避免没有索引的情况\n",
    "        result = data_sales.xs((shopid, time))[target]\n",
    "    except:\n",
    "        pass\n",
    "    return result\n",
    "## 获得上期绩效\n",
    "def getLastPerformance(shopid, time, target):\n",
    "    result = 0\n",
    "    try:\n",
    "        result = data_sales.xs((shopid, list_month[list_month.index(time)-1]))[target]\n",
    "    except:\n",
    "        pass\n",
    "    return result\n",
    "print getNowPerformance(1427428057, '2017-02', 'share')\n",
    "print getLastPerformance(1427428057, '2017-03', 'share')"
   ]
  },
  {
   "cell_type": "code",
   "execution_count": null,
   "metadata": {},
   "outputs": [],
   "source": [
    "## 获得企业前N个月平均销量，做控制变量\n",
    "def getEnterpriseSale(shopid, time_index):\n",
    "    times = range(time_index-N, time_index)\n",
    "    _sum = 0.0\n",
    "    _count = 0.0\n",
    "    for time in times:\n",
    "        try:\n",
    "            _sum += data_sales.loc[shopid, list_month[time]]['销量']\n",
    "            _count += 1\n",
    "        except:\n",
    "            pass\n",
    "    if _count == 0: return 0\n",
    "    return _sum/_count\n",
    "## 获得企业前N个月平均市场规模，做控制变量\n",
    "def getEnterpriseShare(shopid, time_index):\n",
    "    times = range(time_index-N, time_index)\n",
    "    _sum = 0.0\n",
    "    _count = 0.0\n",
    "    for time in times:\n",
    "        try:\n",
    "            _sum += data_sales.loc[shopid, list_month[time]]['share']\n",
    "            _count += 1\n",
    "        except:\n",
    "            pass\n",
    "    if _count == 0: return 0\n",
    "    return _sum/_count\n",
    "print getEnterpriseSale(1427428057,18)\n",
    "print getEnterpriseShare(1427428057,18)"
   ]
  },
  {
   "cell_type": "code",
   "execution_count": null,
   "metadata": {},
   "outputs": [],
   "source": [
    "## 获得市场规模，做控制变量\n",
    "def getMarketSaleSum(shopid,time):\n",
    "    key = dict_shopid_location[str(shopid)] + time\n",
    "    return dict_locationmonth_marketscale[key]\n",
    "## 获得平均市场规模，做控制变量\n",
    "def getMarketSaleAvg(shopid, time):\n",
    "    key = dict_shopid_location[str(shopid)] + time\n",
    "    return dict_locationmonth_marketavgsale[key]\n",
    "def getMarketShareAvg(shopid, time):\n",
    "    key = dict_shopid_location[str(shopid)] + time\n",
    "    return dict_locationmonth_marketavgshare[key]\n",
    "print getMarketSaleSum(1427428057,'2017-02')\n",
    "print getMarketSaleAvg(1427428057,'2017-02')\n",
    "print getMarketShareAvg(1427428057,'2017-02')"
   ]
  },
  {
   "cell_type": "code",
   "execution_count": null,
   "metadata": {
    "scrolled": true
   },
   "outputs": [],
   "source": [
    "# 输出 月份，shopid，自身本期绩效，自身上期绩效，0级竞争者市场份额加总，1级竞争者，2级竞争者..\n",
    "path = ('E:\\\\work\\\\竞争对手\\\\数据\\\\餐饮-计量\\\\evidence_new_03.csv').decode('utf-8')\n",
    "f = open(path, 'w')\n",
    "f.write('time,shopid,performance_c,enterprise_sale,enterprise_share_c,'\\\n",
    "        + 'marketsalesum,marketsaleavg,marketshareavg_c,'\\\n",
    "        + 'competitor0_c,competitor1_c,competitor2_c,competitor3_c\\r\\n')\n",
    "for shopid in list_shop:\n",
    "    for time_index in range(N,len(list_month)):\n",
    "        time = list_month[time_index]\n",
    "        time_last = list_month[time_index-1]\n",
    "        performance_now = getNowPerformance(shopid, time,'share')\n",
    "        performance_last = getLastPerformance(shopid, time,'share')\n",
    "        if performance_now == 0: continue # 去除本月绩效为0的情况\n",
    "        if performance_last == 0: continue # 去除上月绩效为0的情况\n",
    "        list_competitor = [getCompetitorPerformanceSum(shopid, i, time, 'share') for i in range(4)]\n",
    "        list_competitor_last = [getCompetitorPerformanceSum(shopid, i, time_last, 'share') for i in range(4)] #上期竞争对手绩效\n",
    "        f.write(time + ',' + str(shopid) + ',' + str(performance_now-performance_last) + ','\\\n",
    "                + str(getEnterpriseSale(shopid,time_index)) + ','\n",
    "                + str(getEnterpriseShare(shopid,time_index)-getEnterpriseShare(shopid,time_index-1)) + ','\\\n",
    "                + str(getMarketSaleSum(shopid,time)) + ',' + str(getMarketSaleAvg(shopid,time)) + ','\\\n",
    "                + str(getMarketShareAvg(shopid,time)-getMarketShareAvg(shopid,time_last)) + ','\\\n",
    "                + str(list_competitor[0]-list_competitor_last[0]) + ','\\\n",
    "                + str(list_competitor[1]-list_competitor_last[1]) + ','\\\n",
    "                + str(list_competitor[2]-list_competitor_last[2]) + ','\\\n",
    "                + str(list_competitor[3]-list_competitor_last[3]) + '\\r\\n')\n",
    "print 'done'\n",
    "f.close()"
   ]
  },
  {
   "cell_type": "code",
   "execution_count": 3,
   "metadata": {},
   "outputs": [
    {
     "data": {
      "text/html": [
       "<div>\n",
       "<style>\n",
       "    .dataframe thead tr:only-child th {\n",
       "        text-align: right;\n",
       "    }\n",
       "\n",
       "    .dataframe thead th {\n",
       "        text-align: left;\n",
       "    }\n",
       "\n",
       "    .dataframe tbody tr th {\n",
       "        vertical-align: top;\n",
       "    }\n",
       "</style>\n",
       "<table border=\"1\" class=\"dataframe\">\n",
       "  <thead>\n",
       "    <tr style=\"text-align: right;\">\n",
       "      <th></th>\n",
       "      <th>time</th>\n",
       "      <th>shopid</th>\n",
       "      <th>performance</th>\n",
       "      <th>enterprise_sale</th>\n",
       "      <th>enterprise_share</th>\n",
       "      <th>marketsalesum</th>\n",
       "      <th>marketsaleavg</th>\n",
       "      <th>marketshareavg</th>\n",
       "      <th>competitor0</th>\n",
       "      <th>competitor1</th>\n",
       "      <th>competitor2</th>\n",
       "      <th>competitor3</th>\n",
       "    </tr>\n",
       "  </thead>\n",
       "  <tbody>\n",
       "    <tr>\n",
       "      <th>0</th>\n",
       "      <td>2016-03</td>\n",
       "      <td>1459224577</td>\n",
       "      <td>0.016233</td>\n",
       "      <td>354.666667</td>\n",
       "      <td>0.034842</td>\n",
       "      <td>23533</td>\n",
       "      <td>146</td>\n",
       "      <td>0.006211</td>\n",
       "      <td>0.0</td>\n",
       "      <td>0.0</td>\n",
       "      <td>0.0</td>\n",
       "      <td>0.0</td>\n",
       "    </tr>\n",
       "    <tr>\n",
       "      <th>1</th>\n",
       "      <td>2016-04</td>\n",
       "      <td>1459224577</td>\n",
       "      <td>0.016152</td>\n",
       "      <td>321.333333</td>\n",
       "      <td>0.022028</td>\n",
       "      <td>25445</td>\n",
       "      <td>138</td>\n",
       "      <td>0.005435</td>\n",
       "      <td>0.0</td>\n",
       "      <td>0.0</td>\n",
       "      <td>0.0</td>\n",
       "      <td>0.0</td>\n",
       "    </tr>\n",
       "    <tr>\n",
       "      <th>2</th>\n",
       "      <td>2016-05</td>\n",
       "      <td>1459224577</td>\n",
       "      <td>0.012402</td>\n",
       "      <td>302.666667</td>\n",
       "      <td>0.015532</td>\n",
       "      <td>30641</td>\n",
       "      <td>158</td>\n",
       "      <td>0.005181</td>\n",
       "      <td>0.0</td>\n",
       "      <td>0.0</td>\n",
       "      <td>0.0</td>\n",
       "      <td>0.0</td>\n",
       "    </tr>\n",
       "    <tr>\n",
       "      <th>3</th>\n",
       "      <td>2016-06</td>\n",
       "      <td>1459224577</td>\n",
       "      <td>0.007471</td>\n",
       "      <td>391.000000</td>\n",
       "      <td>0.014929</td>\n",
       "      <td>31455</td>\n",
       "      <td>154</td>\n",
       "      <td>0.004926</td>\n",
       "      <td>0.0</td>\n",
       "      <td>0.0</td>\n",
       "      <td>0.0</td>\n",
       "      <td>0.0</td>\n",
       "    </tr>\n",
       "    <tr>\n",
       "      <th>4</th>\n",
       "      <td>2016-07</td>\n",
       "      <td>1459224577</td>\n",
       "      <td>0.007037</td>\n",
       "      <td>342.000000</td>\n",
       "      <td>0.012008</td>\n",
       "      <td>39364</td>\n",
       "      <td>187</td>\n",
       "      <td>0.004762</td>\n",
       "      <td>0.0</td>\n",
       "      <td>0.0</td>\n",
       "      <td>0.0</td>\n",
       "      <td>0.0</td>\n",
       "    </tr>\n",
       "  </tbody>\n",
       "</table>\n",
       "</div>"
      ],
      "text/plain": [
       "      time      shopid  performance  enterprise_sale  enterprise_share  \\\n",
       "0  2016-03  1459224577     0.016233       354.666667          0.034842   \n",
       "1  2016-04  1459224577     0.016152       321.333333          0.022028   \n",
       "2  2016-05  1459224577     0.012402       302.666667          0.015532   \n",
       "3  2016-06  1459224577     0.007471       391.000000          0.014929   \n",
       "4  2016-07  1459224577     0.007037       342.000000          0.012008   \n",
       "\n",
       "   marketsalesum  marketsaleavg  marketshareavg  competitor0  competitor1  \\\n",
       "0          23533            146        0.006211          0.0          0.0   \n",
       "1          25445            138        0.005435          0.0          0.0   \n",
       "2          30641            158        0.005181          0.0          0.0   \n",
       "3          31455            154        0.004926          0.0          0.0   \n",
       "4          39364            187        0.004762          0.0          0.0   \n",
       "\n",
       "   competitor2  competitor3  \n",
       "0          0.0          0.0  \n",
       "1          0.0          0.0  \n",
       "2          0.0          0.0  \n",
       "3          0.0          0.0  \n",
       "4          0.0          0.0  "
      ]
     },
     "execution_count": 3,
     "metadata": {},
     "output_type": "execute_result"
    }
   ],
   "source": [
    "path = ('E:\\\\work\\\\竞争对手识别\\\\竞争对手识别\\数据\\\\餐饮-计量\\\\evidence_new.csv').decode('utf-8')\n",
    "data = pd.read_csv(path)\n",
    "data.head()"
   ]
  },
  {
   "cell_type": "code",
   "execution_count": 5,
   "metadata": {},
   "outputs": [
    {
     "data": {
      "text/html": [
       "<div>\n",
       "<style>\n",
       "    .dataframe thead tr:only-child th {\n",
       "        text-align: right;\n",
       "    }\n",
       "\n",
       "    .dataframe thead th {\n",
       "        text-align: left;\n",
       "    }\n",
       "\n",
       "    .dataframe tbody tr th {\n",
       "        vertical-align: top;\n",
       "    }\n",
       "</style>\n",
       "<table border=\"1\" class=\"dataframe\">\n",
       "  <thead>\n",
       "    <tr style=\"text-align: right;\">\n",
       "      <th></th>\n",
       "      <th>time</th>\n",
       "      <th>shopid</th>\n",
       "      <th>performance</th>\n",
       "      <th>enterprise_sale</th>\n",
       "      <th>enterprise_share</th>\n",
       "      <th>marketsalesum</th>\n",
       "      <th>marketsaleavg</th>\n",
       "      <th>marketshareavg</th>\n",
       "      <th>competitor0</th>\n",
       "      <th>competitor1</th>\n",
       "      <th>competitor2</th>\n",
       "      <th>competitor3</th>\n",
       "    </tr>\n",
       "  </thead>\n",
       "  <tbody>\n",
       "    <tr>\n",
       "      <th>18014</th>\n",
       "      <td>2017-06</td>\n",
       "      <td>1511806723</td>\n",
       "      <td>0.125683</td>\n",
       "      <td>31.000000</td>\n",
       "      <td>0.129313</td>\n",
       "      <td>183</td>\n",
       "      <td>30</td>\n",
       "      <td>0.166667</td>\n",
       "      <td>1.194266</td>\n",
       "      <td>0.0</td>\n",
       "      <td>0.0</td>\n",
       "      <td>0.0</td>\n",
       "    </tr>\n",
       "    <tr>\n",
       "      <th>8099</th>\n",
       "      <td>2016-10</td>\n",
       "      <td>1524623887</td>\n",
       "      <td>0.000486</td>\n",
       "      <td>39.000000</td>\n",
       "      <td>0.001002</td>\n",
       "      <td>26773</td>\n",
       "      <td>116</td>\n",
       "      <td>0.004348</td>\n",
       "      <td>1.017912</td>\n",
       "      <td>0.0</td>\n",
       "      <td>0.0</td>\n",
       "      <td>0.0</td>\n",
       "    </tr>\n",
       "    <tr>\n",
       "      <th>12119</th>\n",
       "      <td>2016-11</td>\n",
       "      <td>1508872008</td>\n",
       "      <td>0.019254</td>\n",
       "      <td>52.333333</td>\n",
       "      <td>0.016772</td>\n",
       "      <td>2441</td>\n",
       "      <td>59</td>\n",
       "      <td>0.024390</td>\n",
       "      <td>0.949907</td>\n",
       "      <td>0.0</td>\n",
       "      <td>0.0</td>\n",
       "      <td>0.0</td>\n",
       "    </tr>\n",
       "    <tr>\n",
       "      <th>18013</th>\n",
       "      <td>2017-05</td>\n",
       "      <td>1511806723</td>\n",
       "      <td>0.126087</td>\n",
       "      <td>39.666667</td>\n",
       "      <td>0.174586</td>\n",
       "      <td>230</td>\n",
       "      <td>38</td>\n",
       "      <td>0.166667</td>\n",
       "      <td>0.941603</td>\n",
       "      <td>0.0</td>\n",
       "      <td>0.0</td>\n",
       "      <td>0.0</td>\n",
       "    </tr>\n",
       "    <tr>\n",
       "      <th>18012</th>\n",
       "      <td>2017-04</td>\n",
       "      <td>1511806723</td>\n",
       "      <td>0.124514</td>\n",
       "      <td>44.666667</td>\n",
       "      <td>0.205949</td>\n",
       "      <td>257</td>\n",
       "      <td>42</td>\n",
       "      <td>0.166667</td>\n",
       "      <td>0.925439</td>\n",
       "      <td>0.0</td>\n",
       "      <td>0.0</td>\n",
       "      <td>0.0</td>\n",
       "    </tr>\n",
       "  </tbody>\n",
       "</table>\n",
       "</div>"
      ],
      "text/plain": [
       "          time      shopid  performance  enterprise_sale  enterprise_share  \\\n",
       "18014  2017-06  1511806723     0.125683        31.000000          0.129313   \n",
       "8099   2016-10  1524623887     0.000486        39.000000          0.001002   \n",
       "12119  2016-11  1508872008     0.019254        52.333333          0.016772   \n",
       "18013  2017-05  1511806723     0.126087        39.666667          0.174586   \n",
       "18012  2017-04  1511806723     0.124514        44.666667          0.205949   \n",
       "\n",
       "       marketsalesum  marketsaleavg  marketshareavg  competitor0  competitor1  \\\n",
       "18014            183             30        0.166667     1.194266          0.0   \n",
       "8099           26773            116        0.004348     1.017912          0.0   \n",
       "12119           2441             59        0.024390     0.949907          0.0   \n",
       "18013            230             38        0.166667     0.941603          0.0   \n",
       "18012            257             42        0.166667     0.925439          0.0   \n",
       "\n",
       "       competitor2  competitor3  \n",
       "18014          0.0          0.0  \n",
       "8099           0.0          0.0  \n",
       "12119          0.0          0.0  \n",
       "18013          0.0          0.0  \n",
       "18012          0.0          0.0  "
      ]
     },
     "execution_count": 5,
     "metadata": {},
     "output_type": "execute_result"
    }
   ],
   "source": [
    "data.sort_values('competitor0',ascending=False).head()"
   ]
  },
  {
   "cell_type": "code",
   "execution_count": 7,
   "metadata": {},
   "outputs": [],
   "source": [
    "# _mean = data['performance'].mean()\n",
    "# print _mean\n",
    "data = data[data['performance']>0.05]"
   ]
  },
  {
   "cell_type": "code",
   "execution_count": 8,
   "metadata": {},
   "outputs": [
    {
     "data": {
      "text/plain": [
       "(2094, 12)"
      ]
     },
     "execution_count": 8,
     "metadata": {},
     "output_type": "execute_result"
    }
   ],
   "source": [
    "data.shape"
   ]
  },
  {
   "cell_type": "code",
   "execution_count": 10,
   "metadata": {},
   "outputs": [],
   "source": [
    "path = ('E:\\\\work\\\\竞争对手识别\\\\竞争对手识别\\数据\\\\餐饮-计量\\\\evidence_new_test.csv').decode('utf-8')\n",
    "data.to_csv(path,index=False)"
   ]
  },
  {
   "cell_type": "code",
   "execution_count": null,
   "metadata": {
    "collapsed": true
   },
   "outputs": [],
   "source": []
  }
 ],
 "metadata": {
  "kernelspec": {
   "display_name": "Python 2",
   "language": "python",
   "name": "python2"
  },
  "language_info": {
   "codemirror_mode": {
    "name": "ipython",
    "version": 2
   },
   "file_extension": ".py",
   "mimetype": "text/x-python",
   "name": "python",
   "nbconvert_exporter": "python",
   "pygments_lexer": "ipython2",
   "version": "2.7.13"
  }
 },
 "nbformat": 4,
 "nbformat_minor": 1
}
