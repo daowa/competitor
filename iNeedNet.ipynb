{
 "cells": [
  {
   "cell_type": "code",
   "execution_count": 1,
   "metadata": {
    "collapsed": true
   },
   "outputs": [],
   "source": [
    "def iNeedNet(dict_node_weight, dict_line_weight, directed, dict_node_partition, path_ucinet, path_gephi_node, path_gephi_line):\n",
    "    dict_name_id = {}\n",
    "    dict_id_name = {}\n",
    "    _id = 1\n",
    "    # 第一遍遍历赋予id\n",
    "    for name in dict_node_weight.keys():\n",
    "        dict_name_id[name] = _id\n",
    "        dict_id_name[_id] = name\n",
    "        _id += 1\n",
    "    # 写入gephi\n",
    "    ## 写入node文件\n",
    "    f = open((path_gephi_node), 'w')\n",
    "    f.write('Id,Label,partition,weighted degree\\r\\n')\n",
    "    for _id in dict_id_name:\n",
    "        if dict_node_partition == False:\n",
    "            s = str(_id) + ',' + dict_id_name[_id] + ',0,' + str(dict_node_weight[dict_id_name[_id]]) + '\\r\\n'\n",
    "#             if isinstance(s, unicode): s = s\n",
    "            f.write(s)\n",
    "        else:\n",
    "            s = str(_id) + ',' + dict_id_name[_id] + ',' + str(dict_node_partition[dict_id_name[_id]]) + ',' + \\\n",
    "                    str(dict_node_weight[dict_id_name[_id]]) + '\\r\\n'\n",
    "#             if isinstance(s, unicode): s = s\n",
    "            f.write(s)\n",
    "    f.close()\n",
    "    ## 写入line文件\n",
    "    f = open((path_gephi_line), 'w')\n",
    "    f.write('Source,Target,Type,label,timeset,weight\\r\\n')\n",
    "    for line in dict_line_weight:\n",
    "        direct = 'Directed' if directed else 'unDirected'\n",
    "        node0 = line.split(',')[0]\n",
    "        node1 = line.split(',')[1]\n",
    "        if node0 in dict_name_id and node1 in dict_name_id:\n",
    "            f.write(str(dict_name_id[node0]) + ',' + str(dict_name_id[node1]) + ',' + direct + ',,,' + str(dict_line_weight[line]) + '\\r\\n')\n",
    "    f.close()\n",
    "    # 写入.net\n",
    "    f = open((path_ucinet), 'w')\n",
    "    f.write('*Vertices ' + str(len(dict_id_name)) + '\\r\\n')\n",
    "    for _id in dict_id_name.keys():\n",
    "        s = str(_id) + ' \"' + dict_id_name[_id] + '\"\\r\\n'\n",
    "#         if isinstance(s, unicode): s = s\n",
    "        f.write(s)\n",
    "    if directed:\n",
    "        f.write('*Arcs\\r\\n')\n",
    "    else:\n",
    "        f.write('*Edges\\r\\n')\n",
    "    for line in dict_line_weight:\n",
    "        node0 = line.split(',')[0]\n",
    "        node1 = line.split(',')[1]\n",
    "        if node0 in dict_name_id and node1 in dict_name_id:\n",
    "            f.write(str(dict_name_id[node0]) + ',' + str(dict_name_id[node1]) + ' ' + str(dict_line_weight[line]) + '\\r\\n')\n",
    "    f.close()"
   ]
  }
 ],
 "metadata": {
  "kernelspec": {
   "display_name": "Python 3",
   "language": "python",
   "name": "python3"
  },
  "language_info": {
   "codemirror_mode": {
    "name": "ipython",
    "version": 3
   },
   "file_extension": ".py",
   "mimetype": "text/x-python",
   "name": "python",
   "nbconvert_exporter": "python",
   "pygments_lexer": "ipython3",
   "version": "3.6.4"
  }
 },
 "nbformat": 4,
 "nbformat_minor": 1
}
